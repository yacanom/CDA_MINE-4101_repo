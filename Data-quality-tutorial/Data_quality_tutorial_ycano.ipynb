{
  "cells": [
    {
      "cell_type": "markdown",
      "metadata": {
        "id": "P3ZBbYLawzTM"
      },
      "source": [
        "<a href=\"https://colab.research.google.com/github/datascience-uniandes/data-quality-tutorial/blob/master/data-quality-tutorial.ipynb\" target=\"_parent\"><img src=\"https://colab.research.google.com/assets/colab-badge.svg\" alt=\"Open In Colab\"/></a>"
      ]
    },
    {
      "cell_type": "markdown",
      "metadata": {
        "id": "5u1U5xkYwzTP"
      },
      "source": [
        "# Data Quality tutorial\n",
        "\n",
        "MINE-4101: Applied Data Science  \n",
        "Univerisdad de los Andes  \n",
        "  \n",
        "Dataset: Homicides Colombia  \n",
        "Source: [datos.gov.co](datos.gov.co)\n",
        "  \n",
        "Last update: September, 2022"
      ]
    },
    {
      "cell_type": "code",
      "execution_count": 1,
      "metadata": {
        "id": "xoePwSrUwzTQ",
        "colab": {
          "base_uri": "https://localhost:8080/"
        },
        "outputId": "d4dba5e3-bbad-4a29-c154-d9611fb7fe30"
      },
      "outputs": [
        {
          "output_type": "stream",
          "name": "stdout",
          "text": [
            "Looking in indexes: https://pypi.org/simple, https://us-python.pkg.dev/colab-wheels/public/simple/\n",
            "Requirement already satisfied: pylev in /usr/local/lib/python3.7/dist-packages (1.4.0)\n"
          ]
        }
      ],
      "source": [
        "!pip install pylev"
      ]
    },
    {
      "cell_type": "code",
      "execution_count": 2,
      "metadata": {
        "id": "6P0r2n_IwzTR"
      },
      "outputs": [],
      "source": [
        "# Importing required libraries\n",
        "\n",
        "import re\n",
        "from random import randint\n",
        "from datetime import datetime\n",
        "\n",
        "import numpy as np\n",
        "import pandas as pd\n",
        "\n",
        "import pylev\n",
        "from datetime import date"
      ]
    },
    {
      "cell_type": "code",
      "execution_count": 3,
      "metadata": {
        "id": "3XJmxMbSwzTS"
      },
      "outputs": [],
      "source": [
        "# Parameter for showing all columns when printing a dataframe\n",
        "pd.set_option('display.max_columns', None)"
      ]
    },
    {
      "cell_type": "code",
      "execution_count": 4,
      "metadata": {
        "id": "k-hq-lMWwzTS"
      },
      "outputs": [],
      "source": [
        "# Loading data\n",
        "url = 'https://raw.githubusercontent.com/datascience-uniandes/data-quality-tutorial/master/data/homicides.csv'\n",
        "homicides_df = pd.read_csv(url)"
      ]
    },
    {
      "cell_type": "code",
      "execution_count": 5,
      "metadata": {
        "id": "4rnMSAl4wzTT",
        "colab": {
          "base_uri": "https://localhost:8080/"
        },
        "outputId": "857fbd04-5b0f-4014-fb2d-900d6337646c"
      },
      "outputs": [
        {
          "output_type": "execute_result",
          "data": {
            "text/plain": [
              "(12400, 22)"
            ]
          },
          "metadata": {},
          "execution_count": 5
        }
      ],
      "source": [
        "# Printing the dataset dimensions\n",
        "homicides_df.shape"
      ]
    },
    {
      "cell_type": "code",
      "execution_count": 6,
      "metadata": {
        "id": "Z5N1fZczwzTT",
        "colab": {
          "base_uri": "https://localhost:8080/"
        },
        "outputId": "11e876e9-8c20-46fe-a2d5-03adc705980f"
      },
      "outputs": [
        {
          "output_type": "execute_result",
          "data": {
            "text/plain": [
              "FECHA                 object\n",
              "DEPARTAMENTO          object\n",
              "MUNICIPIO             object\n",
              "DIA                   object\n",
              "HORA                  object\n",
              "BARRIO                object\n",
              "ZONA                  object\n",
              "CLASE DE SITIO        object\n",
              "ARMA O MEDIO          object\n",
              "MOVIL VICTIMA         object\n",
              "MOVIL AGRESOR         object\n",
              "EDAD                 float64\n",
              "GENERO                object\n",
              "ESTADO CIVIL          object\n",
              "CLASE EMPLEADO        object\n",
              "PROFESION             object\n",
              "ESCOLARIDAD           object\n",
              "PAIS NACE             object\n",
              "CODIGO DANE          float64\n",
              "AÑO DE NACIMIENTO    float64\n",
              "CÉDULA                object\n",
              "CORREO                object\n",
              "dtype: object"
            ]
          },
          "metadata": {},
          "execution_count": 6
        }
      ],
      "source": [
        "# Printing column data types\n",
        "homicides_df.dtypes"
      ]
    },
    {
      "cell_type": "code",
      "execution_count": 7,
      "metadata": {
        "id": "OnY2ZuRSwzTU",
        "colab": {
          "base_uri": "https://localhost:8080/",
          "height": 792
        },
        "outputId": "0d753a1f-1e13-484f-db4d-0c2eda23ac10"
      },
      "outputs": [
        {
          "output_type": "execute_result",
          "data": {
            "text/plain": [
              "                    FECHA DEPARTAMENTO      MUNICIPIO     DIA   HORA  \\\n",
              "0  01/01/2021 12:00:00 AM    ANTIOQUIA          AMAGÁ  Jueves   6:00   \n",
              "1  01/01/2021 12:00:00 AM    ANTIOQUIA        BARBOSA  Jueves   9:00   \n",
              "2  01/01/2021 12:00:00 AM    ANTIOQUIA       EL BAGRE  Jueves  19:00   \n",
              "3  01/01/2021 12:00:00 AM    ANTIOQUIA         JARDÍN  Jueves  11:20   \n",
              "4  01/01/2021 12:00:00 AM    ANTIOQUIA  MEDELLÍN (CT)   Juees  15:00   \n",
              "5  01/01/2021 12:00:00 AM    ANTIOQUIA  MEDELLÍN (CT)   Juees   0:47   \n",
              "6  01/01/2021 12:00:00 AM    ANTIOQUIA  MEDELLÍN (CT)  Jueves  11:00   \n",
              "7  01/01/2021 12:00:00 AM    ANTIOQUIA  MEDELLÍN (CT)  Jueves  19:35   \n",
              "8  01/01/2021 12:00:00 AM    ANTIOQUIA  MEDELLÍN (CT)  Jueves  20:35   \n",
              "9  01/01/2021 12:00:00 AM    ANTIOQUIA         MUTATÁ  Jueves  14:00   \n",
              "\n",
              "                       BARRIO    ZONA                      CLASE DE SITIO  \\\n",
              "0                   EL VOLCAN   RURAL                              TIENDA   \n",
              "1              VDA. MATASANOS   RURAL                       VIAS PUBLICAS   \n",
              "2               PUERTO CLAVER   RURAL                  FINCAS Y SIMILARES   \n",
              "3                  CRISTIANIA   RURAL                  FINCAS Y SIMILARES   \n",
              "4    PICACHITO CNO REPORTADO6  URBANA  FRENTE A RESIDENCIAS - VIA PUBLICA   \n",
              "5      CORDOBA CNO REPORTADO7  URBANA                       VIAS PUBLICAS   \n",
              "6  CRISTO REY CNO REPORTADO15  URBANA                       VIAS PUBLICAS   \n",
              "7    LA SALLE  CNO REPORTADO3  URBANA                       VIAS PUBLICAS   \n",
              "8      KENNEDY CNO REPORTADO6  URBANA                       VIAS PUBLICAS   \n",
              "9               VDA CASA ROJA   RURAL                  FINCAS Y SIMILARES   \n",
              "\n",
              "    ARMA O MEDIO MOVIL VICTIMA         MOVIL AGRESOR  EDAD     GENERO  \\\n",
              "0    ARMA BLANCA         A PIE                 A PIE  44.0  MASCULINO   \n",
              "1    ARMA BLANCA         A PIE                 A PIE  30.0  MASCULINO   \n",
              "2    ARMA BLANCA         A PIE                 A PIE  33.0  MASCULINO   \n",
              "3    ARMA BLANCA         A PIE                 A PIE  40.0  MASCULINO   \n",
              "4   CONTUNDENTES         A PIE                 A PIE  66.0  MASCULINO   \n",
              "5  ARMA DE FUEGO         A PIE                 A PIE  42.0  MASCULINO   \n",
              "6    ARMA BLANCA         A PIE                 A PIE  25.0  MASCULINO   \n",
              "7    ARMA BLANCA         A PIE                 A PIE  37.0  MASCULINO   \n",
              "8  ARMA DE FUEGO         A PIE  PASAJERO MOTOCICLETA  25.0  MASCULINO   \n",
              "9    ARMA BLANCA         A PIE                 A PIE  30.0  MASCULINO   \n",
              "\n",
              "  ESTADO CIVIL  CLASE EMPLEADO     PROFESION ESCOLARIDAD     PAIS NACE  \\\n",
              "0       CASADO   INDEPENDIENTE  NO REPORTADO    PRIMARIA      COLOMBIA   \n",
              "1      SOLTERO     DESEMPLEADO  NO REPORTADO  SECUNDARIA  NO REPORTADO   \n",
              "2  UNION LIBRE      AGRICULTOR  NO REPORTADO    PRIMARIA      COLOMBIA   \n",
              "3       CASADO      AGRICULTOR  NO REPORTADO    PRIMARIA      COLOMBIA   \n",
              "4  UNION LIBRE     DESEMPLEADO  NO REPORTADO    PRIMARIA      COLOMBIA   \n",
              "5      SOLTERO   INDEPENDIENTE  NO REPORTADO  SECUNDARIA      COLOMBIA   \n",
              "6      SOLTERO     DESEMPLEADO  NO REPORTADO  SECUNDARIA      COLOMBIA   \n",
              "7       CASADO   INDEPENDIENTE  NO REPORTADO  SECUNDARIA      COLOMBIA   \n",
              "8      SOLTERO   INDEPENDIENTE  NO REPORTADO  SECUNDARIA      COLOMBIA   \n",
              "9      SOLTERO  ETNIA INDIGENA  NO REPORTADO  SECUNDARIA  NO REPORTADO   \n",
              "\n",
              "   CODIGO DANE  AÑO DE NACIMIENTO  CÉDULA                      CORREO  \n",
              "0    5030000.0             1971.0  42-908  agbnqg2122@unidatos.edu.co  \n",
              "1    5079000.0             1985.0  15-183        rbkeui3584@gmail.com  \n",
              "2    5250000.0             1982.0  84-786  aorkhf9155@unidatos.edu.co  \n",
              "3    5364000.0             1975.0  31-289  dhtemr6623@unidatos.edu.co  \n",
              "4    5001000.0             1949.0  66-363  artatj9268@unidatos.edu.co  \n",
              "5    5001000.0             1973.0  54-450  grlcsj8696@unidatos.edu.co  \n",
              "6    5001000.0             1990.0  45-052        pkdakc6682@gmail.com  \n",
              "7    5001000.0             1978.0  45-298        qledtq1884@gmail.com  \n",
              "8    5001000.0             1990.0  37-281  mipgfg2758@unidatos.edu.co  \n",
              "9    5480000.0             1985.0  78-013  dgepmg5536@unidatos.edu.co  "
            ],
            "text/html": [
              "\n",
              "  <div id=\"df-72c3eb35-5c5a-40fb-b554-b4974fafc0aa\">\n",
              "    <div class=\"colab-df-container\">\n",
              "      <div>\n",
              "<style scoped>\n",
              "    .dataframe tbody tr th:only-of-type {\n",
              "        vertical-align: middle;\n",
              "    }\n",
              "\n",
              "    .dataframe tbody tr th {\n",
              "        vertical-align: top;\n",
              "    }\n",
              "\n",
              "    .dataframe thead th {\n",
              "        text-align: right;\n",
              "    }\n",
              "</style>\n",
              "<table border=\"1\" class=\"dataframe\">\n",
              "  <thead>\n",
              "    <tr style=\"text-align: right;\">\n",
              "      <th></th>\n",
              "      <th>FECHA</th>\n",
              "      <th>DEPARTAMENTO</th>\n",
              "      <th>MUNICIPIO</th>\n",
              "      <th>DIA</th>\n",
              "      <th>HORA</th>\n",
              "      <th>BARRIO</th>\n",
              "      <th>ZONA</th>\n",
              "      <th>CLASE DE SITIO</th>\n",
              "      <th>ARMA O MEDIO</th>\n",
              "      <th>MOVIL VICTIMA</th>\n",
              "      <th>MOVIL AGRESOR</th>\n",
              "      <th>EDAD</th>\n",
              "      <th>GENERO</th>\n",
              "      <th>ESTADO CIVIL</th>\n",
              "      <th>CLASE EMPLEADO</th>\n",
              "      <th>PROFESION</th>\n",
              "      <th>ESCOLARIDAD</th>\n",
              "      <th>PAIS NACE</th>\n",
              "      <th>CODIGO DANE</th>\n",
              "      <th>AÑO DE NACIMIENTO</th>\n",
              "      <th>CÉDULA</th>\n",
              "      <th>CORREO</th>\n",
              "    </tr>\n",
              "  </thead>\n",
              "  <tbody>\n",
              "    <tr>\n",
              "      <th>0</th>\n",
              "      <td>01/01/2021 12:00:00 AM</td>\n",
              "      <td>ANTIOQUIA</td>\n",
              "      <td>AMAGÁ</td>\n",
              "      <td>Jueves</td>\n",
              "      <td>6:00</td>\n",
              "      <td>EL VOLCAN</td>\n",
              "      <td>RURAL</td>\n",
              "      <td>TIENDA</td>\n",
              "      <td>ARMA BLANCA</td>\n",
              "      <td>A PIE</td>\n",
              "      <td>A PIE</td>\n",
              "      <td>44.0</td>\n",
              "      <td>MASCULINO</td>\n",
              "      <td>CASADO</td>\n",
              "      <td>INDEPENDIENTE</td>\n",
              "      <td>NO REPORTADO</td>\n",
              "      <td>PRIMARIA</td>\n",
              "      <td>COLOMBIA</td>\n",
              "      <td>5030000.0</td>\n",
              "      <td>1971.0</td>\n",
              "      <td>42-908</td>\n",
              "      <td>agbnqg2122@unidatos.edu.co</td>\n",
              "    </tr>\n",
              "    <tr>\n",
              "      <th>1</th>\n",
              "      <td>01/01/2021 12:00:00 AM</td>\n",
              "      <td>ANTIOQUIA</td>\n",
              "      <td>BARBOSA</td>\n",
              "      <td>Jueves</td>\n",
              "      <td>9:00</td>\n",
              "      <td>VDA. MATASANOS</td>\n",
              "      <td>RURAL</td>\n",
              "      <td>VIAS PUBLICAS</td>\n",
              "      <td>ARMA BLANCA</td>\n",
              "      <td>A PIE</td>\n",
              "      <td>A PIE</td>\n",
              "      <td>30.0</td>\n",
              "      <td>MASCULINO</td>\n",
              "      <td>SOLTERO</td>\n",
              "      <td>DESEMPLEADO</td>\n",
              "      <td>NO REPORTADO</td>\n",
              "      <td>SECUNDARIA</td>\n",
              "      <td>NO REPORTADO</td>\n",
              "      <td>5079000.0</td>\n",
              "      <td>1985.0</td>\n",
              "      <td>15-183</td>\n",
              "      <td>rbkeui3584@gmail.com</td>\n",
              "    </tr>\n",
              "    <tr>\n",
              "      <th>2</th>\n",
              "      <td>01/01/2021 12:00:00 AM</td>\n",
              "      <td>ANTIOQUIA</td>\n",
              "      <td>EL BAGRE</td>\n",
              "      <td>Jueves</td>\n",
              "      <td>19:00</td>\n",
              "      <td>PUERTO CLAVER</td>\n",
              "      <td>RURAL</td>\n",
              "      <td>FINCAS Y SIMILARES</td>\n",
              "      <td>ARMA BLANCA</td>\n",
              "      <td>A PIE</td>\n",
              "      <td>A PIE</td>\n",
              "      <td>33.0</td>\n",
              "      <td>MASCULINO</td>\n",
              "      <td>UNION LIBRE</td>\n",
              "      <td>AGRICULTOR</td>\n",
              "      <td>NO REPORTADO</td>\n",
              "      <td>PRIMARIA</td>\n",
              "      <td>COLOMBIA</td>\n",
              "      <td>5250000.0</td>\n",
              "      <td>1982.0</td>\n",
              "      <td>84-786</td>\n",
              "      <td>aorkhf9155@unidatos.edu.co</td>\n",
              "    </tr>\n",
              "    <tr>\n",
              "      <th>3</th>\n",
              "      <td>01/01/2021 12:00:00 AM</td>\n",
              "      <td>ANTIOQUIA</td>\n",
              "      <td>JARDÍN</td>\n",
              "      <td>Jueves</td>\n",
              "      <td>11:20</td>\n",
              "      <td>CRISTIANIA</td>\n",
              "      <td>RURAL</td>\n",
              "      <td>FINCAS Y SIMILARES</td>\n",
              "      <td>ARMA BLANCA</td>\n",
              "      <td>A PIE</td>\n",
              "      <td>A PIE</td>\n",
              "      <td>40.0</td>\n",
              "      <td>MASCULINO</td>\n",
              "      <td>CASADO</td>\n",
              "      <td>AGRICULTOR</td>\n",
              "      <td>NO REPORTADO</td>\n",
              "      <td>PRIMARIA</td>\n",
              "      <td>COLOMBIA</td>\n",
              "      <td>5364000.0</td>\n",
              "      <td>1975.0</td>\n",
              "      <td>31-289</td>\n",
              "      <td>dhtemr6623@unidatos.edu.co</td>\n",
              "    </tr>\n",
              "    <tr>\n",
              "      <th>4</th>\n",
              "      <td>01/01/2021 12:00:00 AM</td>\n",
              "      <td>ANTIOQUIA</td>\n",
              "      <td>MEDELLÍN (CT)</td>\n",
              "      <td>Juees</td>\n",
              "      <td>15:00</td>\n",
              "      <td>PICACHITO CNO REPORTADO6</td>\n",
              "      <td>URBANA</td>\n",
              "      <td>FRENTE A RESIDENCIAS - VIA PUBLICA</td>\n",
              "      <td>CONTUNDENTES</td>\n",
              "      <td>A PIE</td>\n",
              "      <td>A PIE</td>\n",
              "      <td>66.0</td>\n",
              "      <td>MASCULINO</td>\n",
              "      <td>UNION LIBRE</td>\n",
              "      <td>DESEMPLEADO</td>\n",
              "      <td>NO REPORTADO</td>\n",
              "      <td>PRIMARIA</td>\n",
              "      <td>COLOMBIA</td>\n",
              "      <td>5001000.0</td>\n",
              "      <td>1949.0</td>\n",
              "      <td>66-363</td>\n",
              "      <td>artatj9268@unidatos.edu.co</td>\n",
              "    </tr>\n",
              "    <tr>\n",
              "      <th>5</th>\n",
              "      <td>01/01/2021 12:00:00 AM</td>\n",
              "      <td>ANTIOQUIA</td>\n",
              "      <td>MEDELLÍN (CT)</td>\n",
              "      <td>Juees</td>\n",
              "      <td>0:47</td>\n",
              "      <td>CORDOBA CNO REPORTADO7</td>\n",
              "      <td>URBANA</td>\n",
              "      <td>VIAS PUBLICAS</td>\n",
              "      <td>ARMA DE FUEGO</td>\n",
              "      <td>A PIE</td>\n",
              "      <td>A PIE</td>\n",
              "      <td>42.0</td>\n",
              "      <td>MASCULINO</td>\n",
              "      <td>SOLTERO</td>\n",
              "      <td>INDEPENDIENTE</td>\n",
              "      <td>NO REPORTADO</td>\n",
              "      <td>SECUNDARIA</td>\n",
              "      <td>COLOMBIA</td>\n",
              "      <td>5001000.0</td>\n",
              "      <td>1973.0</td>\n",
              "      <td>54-450</td>\n",
              "      <td>grlcsj8696@unidatos.edu.co</td>\n",
              "    </tr>\n",
              "    <tr>\n",
              "      <th>6</th>\n",
              "      <td>01/01/2021 12:00:00 AM</td>\n",
              "      <td>ANTIOQUIA</td>\n",
              "      <td>MEDELLÍN (CT)</td>\n",
              "      <td>Jueves</td>\n",
              "      <td>11:00</td>\n",
              "      <td>CRISTO REY CNO REPORTADO15</td>\n",
              "      <td>URBANA</td>\n",
              "      <td>VIAS PUBLICAS</td>\n",
              "      <td>ARMA BLANCA</td>\n",
              "      <td>A PIE</td>\n",
              "      <td>A PIE</td>\n",
              "      <td>25.0</td>\n",
              "      <td>MASCULINO</td>\n",
              "      <td>SOLTERO</td>\n",
              "      <td>DESEMPLEADO</td>\n",
              "      <td>NO REPORTADO</td>\n",
              "      <td>SECUNDARIA</td>\n",
              "      <td>COLOMBIA</td>\n",
              "      <td>5001000.0</td>\n",
              "      <td>1990.0</td>\n",
              "      <td>45-052</td>\n",
              "      <td>pkdakc6682@gmail.com</td>\n",
              "    </tr>\n",
              "    <tr>\n",
              "      <th>7</th>\n",
              "      <td>01/01/2021 12:00:00 AM</td>\n",
              "      <td>ANTIOQUIA</td>\n",
              "      <td>MEDELLÍN (CT)</td>\n",
              "      <td>Jueves</td>\n",
              "      <td>19:35</td>\n",
              "      <td>LA SALLE  CNO REPORTADO3</td>\n",
              "      <td>URBANA</td>\n",
              "      <td>VIAS PUBLICAS</td>\n",
              "      <td>ARMA BLANCA</td>\n",
              "      <td>A PIE</td>\n",
              "      <td>A PIE</td>\n",
              "      <td>37.0</td>\n",
              "      <td>MASCULINO</td>\n",
              "      <td>CASADO</td>\n",
              "      <td>INDEPENDIENTE</td>\n",
              "      <td>NO REPORTADO</td>\n",
              "      <td>SECUNDARIA</td>\n",
              "      <td>COLOMBIA</td>\n",
              "      <td>5001000.0</td>\n",
              "      <td>1978.0</td>\n",
              "      <td>45-298</td>\n",
              "      <td>qledtq1884@gmail.com</td>\n",
              "    </tr>\n",
              "    <tr>\n",
              "      <th>8</th>\n",
              "      <td>01/01/2021 12:00:00 AM</td>\n",
              "      <td>ANTIOQUIA</td>\n",
              "      <td>MEDELLÍN (CT)</td>\n",
              "      <td>Jueves</td>\n",
              "      <td>20:35</td>\n",
              "      <td>KENNEDY CNO REPORTADO6</td>\n",
              "      <td>URBANA</td>\n",
              "      <td>VIAS PUBLICAS</td>\n",
              "      <td>ARMA DE FUEGO</td>\n",
              "      <td>A PIE</td>\n",
              "      <td>PASAJERO MOTOCICLETA</td>\n",
              "      <td>25.0</td>\n",
              "      <td>MASCULINO</td>\n",
              "      <td>SOLTERO</td>\n",
              "      <td>INDEPENDIENTE</td>\n",
              "      <td>NO REPORTADO</td>\n",
              "      <td>SECUNDARIA</td>\n",
              "      <td>COLOMBIA</td>\n",
              "      <td>5001000.0</td>\n",
              "      <td>1990.0</td>\n",
              "      <td>37-281</td>\n",
              "      <td>mipgfg2758@unidatos.edu.co</td>\n",
              "    </tr>\n",
              "    <tr>\n",
              "      <th>9</th>\n",
              "      <td>01/01/2021 12:00:00 AM</td>\n",
              "      <td>ANTIOQUIA</td>\n",
              "      <td>MUTATÁ</td>\n",
              "      <td>Jueves</td>\n",
              "      <td>14:00</td>\n",
              "      <td>VDA CASA ROJA</td>\n",
              "      <td>RURAL</td>\n",
              "      <td>FINCAS Y SIMILARES</td>\n",
              "      <td>ARMA BLANCA</td>\n",
              "      <td>A PIE</td>\n",
              "      <td>A PIE</td>\n",
              "      <td>30.0</td>\n",
              "      <td>MASCULINO</td>\n",
              "      <td>SOLTERO</td>\n",
              "      <td>ETNIA INDIGENA</td>\n",
              "      <td>NO REPORTADO</td>\n",
              "      <td>SECUNDARIA</td>\n",
              "      <td>NO REPORTADO</td>\n",
              "      <td>5480000.0</td>\n",
              "      <td>1985.0</td>\n",
              "      <td>78-013</td>\n",
              "      <td>dgepmg5536@unidatos.edu.co</td>\n",
              "    </tr>\n",
              "  </tbody>\n",
              "</table>\n",
              "</div>\n",
              "      <button class=\"colab-df-convert\" onclick=\"convertToInteractive('df-72c3eb35-5c5a-40fb-b554-b4974fafc0aa')\"\n",
              "              title=\"Convert this dataframe to an interactive table.\"\n",
              "              style=\"display:none;\">\n",
              "        \n",
              "  <svg xmlns=\"http://www.w3.org/2000/svg\" height=\"24px\"viewBox=\"0 0 24 24\"\n",
              "       width=\"24px\">\n",
              "    <path d=\"M0 0h24v24H0V0z\" fill=\"none\"/>\n",
              "    <path d=\"M18.56 5.44l.94 2.06.94-2.06 2.06-.94-2.06-.94-.94-2.06-.94 2.06-2.06.94zm-11 1L8.5 8.5l.94-2.06 2.06-.94-2.06-.94L8.5 2.5l-.94 2.06-2.06.94zm10 10l.94 2.06.94-2.06 2.06-.94-2.06-.94-.94-2.06-.94 2.06-2.06.94z\"/><path d=\"M17.41 7.96l-1.37-1.37c-.4-.4-.92-.59-1.43-.59-.52 0-1.04.2-1.43.59L10.3 9.45l-7.72 7.72c-.78.78-.78 2.05 0 2.83L4 21.41c.39.39.9.59 1.41.59.51 0 1.02-.2 1.41-.59l7.78-7.78 2.81-2.81c.8-.78.8-2.07 0-2.86zM5.41 20L4 18.59l7.72-7.72 1.47 1.35L5.41 20z\"/>\n",
              "  </svg>\n",
              "      </button>\n",
              "      \n",
              "  <style>\n",
              "    .colab-df-container {\n",
              "      display:flex;\n",
              "      flex-wrap:wrap;\n",
              "      gap: 12px;\n",
              "    }\n",
              "\n",
              "    .colab-df-convert {\n",
              "      background-color: #E8F0FE;\n",
              "      border: none;\n",
              "      border-radius: 50%;\n",
              "      cursor: pointer;\n",
              "      display: none;\n",
              "      fill: #1967D2;\n",
              "      height: 32px;\n",
              "      padding: 0 0 0 0;\n",
              "      width: 32px;\n",
              "    }\n",
              "\n",
              "    .colab-df-convert:hover {\n",
              "      background-color: #E2EBFA;\n",
              "      box-shadow: 0px 1px 2px rgba(60, 64, 67, 0.3), 0px 1px 3px 1px rgba(60, 64, 67, 0.15);\n",
              "      fill: #174EA6;\n",
              "    }\n",
              "\n",
              "    [theme=dark] .colab-df-convert {\n",
              "      background-color: #3B4455;\n",
              "      fill: #D2E3FC;\n",
              "    }\n",
              "\n",
              "    [theme=dark] .colab-df-convert:hover {\n",
              "      background-color: #434B5C;\n",
              "      box-shadow: 0px 1px 3px 1px rgba(0, 0, 0, 0.15);\n",
              "      filter: drop-shadow(0px 1px 2px rgba(0, 0, 0, 0.3));\n",
              "      fill: #FFFFFF;\n",
              "    }\n",
              "  </style>\n",
              "\n",
              "      <script>\n",
              "        const buttonEl =\n",
              "          document.querySelector('#df-72c3eb35-5c5a-40fb-b554-b4974fafc0aa button.colab-df-convert');\n",
              "        buttonEl.style.display =\n",
              "          google.colab.kernel.accessAllowed ? 'block' : 'none';\n",
              "\n",
              "        async function convertToInteractive(key) {\n",
              "          const element = document.querySelector('#df-72c3eb35-5c5a-40fb-b554-b4974fafc0aa');\n",
              "          const dataTable =\n",
              "            await google.colab.kernel.invokeFunction('convertToInteractive',\n",
              "                                                     [key], {});\n",
              "          if (!dataTable) return;\n",
              "\n",
              "          const docLinkHtml = 'Like what you see? Visit the ' +\n",
              "            '<a target=\"_blank\" href=https://colab.research.google.com/notebooks/data_table.ipynb>data table notebook</a>'\n",
              "            + ' to learn more about interactive tables.';\n",
              "          element.innerHTML = '';\n",
              "          dataTable['output_type'] = 'display_data';\n",
              "          await google.colab.output.renderOutput(dataTable, element);\n",
              "          const docLink = document.createElement('div');\n",
              "          docLink.innerHTML = docLinkHtml;\n",
              "          element.appendChild(docLink);\n",
              "        }\n",
              "      </script>\n",
              "    </div>\n",
              "  </div>\n",
              "  "
            ]
          },
          "metadata": {},
          "execution_count": 7
        }
      ],
      "source": [
        "homicides_df.head(10)"
      ]
    },
    {
      "cell_type": "code",
      "execution_count": 8,
      "metadata": {
        "id": "8RSKRfPCwzTU"
      },
      "outputs": [],
      "source": [
        "# Creating a lambda expression for datetime parsing\n",
        "dateparse = lambda x: datetime.strptime(x, \"%m/%d/%Y %H:%M:%S %p\")"
      ]
    },
    {
      "cell_type": "code",
      "execution_count": 132,
      "metadata": {
        "id": "T61BXw6ywzTV",
        "colab": {
          "base_uri": "https://localhost:8080/",
          "height": 363
        },
        "outputId": "ba4eb152-2b5d-4992-816f-16ff8163aee9"
      },
      "outputs": [
        {
          "output_type": "error",
          "ename": "ValueError",
          "evalue": "ignored",
          "traceback": [
            "\u001b[0;31m---------------------------------------------------------------------------\u001b[0m",
            "\u001b[0;31mValueError\u001b[0m                                Traceback (most recent call last)",
            "\u001b[0;32m<ipython-input-132-4adcb6515e66>\u001b[0m in \u001b[0;36m<module>\u001b[0;34m\u001b[0m\n\u001b[1;32m      1\u001b[0m \u001b[0;31m# Applying the validation to all values in column\u001b[0m\u001b[0;34m\u001b[0m\u001b[0;34m\u001b[0m\u001b[0;34m\u001b[0m\u001b[0m\n\u001b[0;32m----> 2\u001b[0;31m \u001b[0mhomicides_df\u001b[0m\u001b[0;34m[\u001b[0m\u001b[0;34m\"FECHA\"\u001b[0m\u001b[0;34m]\u001b[0m\u001b[0;34m.\u001b[0m\u001b[0mapply\u001b[0m\u001b[0;34m(\u001b[0m\u001b[0mdateparse\u001b[0m\u001b[0;34m)\u001b[0m\u001b[0;34m\u001b[0m\u001b[0;34m\u001b[0m\u001b[0m\n\u001b[0m\u001b[1;32m      3\u001b[0m \u001b[0;34m\u001b[0m\u001b[0m\n\u001b[1;32m      4\u001b[0m \u001b[0;31m# IT IS EXPECTED TO HAVE AN ERROR INTENTIONALLY\u001b[0m\u001b[0;34m\u001b[0m\u001b[0;34m\u001b[0m\u001b[0;34m\u001b[0m\u001b[0m\n",
            "\u001b[0;32m/usr/local/lib/python3.7/dist-packages/pandas/core/series.py\u001b[0m in \u001b[0;36mapply\u001b[0;34m(self, func, convert_dtype, args, **kwargs)\u001b[0m\n\u001b[1;32m   4355\u001b[0m         \u001b[0mdtype\u001b[0m\u001b[0;34m:\u001b[0m \u001b[0mfloat64\u001b[0m\u001b[0;34m\u001b[0m\u001b[0;34m\u001b[0m\u001b[0m\n\u001b[1;32m   4356\u001b[0m         \"\"\"\n\u001b[0;32m-> 4357\u001b[0;31m         \u001b[0;32mreturn\u001b[0m \u001b[0mSeriesApply\u001b[0m\u001b[0;34m(\u001b[0m\u001b[0mself\u001b[0m\u001b[0;34m,\u001b[0m \u001b[0mfunc\u001b[0m\u001b[0;34m,\u001b[0m \u001b[0mconvert_dtype\u001b[0m\u001b[0;34m,\u001b[0m \u001b[0margs\u001b[0m\u001b[0;34m,\u001b[0m \u001b[0mkwargs\u001b[0m\u001b[0;34m)\u001b[0m\u001b[0;34m.\u001b[0m\u001b[0mapply\u001b[0m\u001b[0;34m(\u001b[0m\u001b[0;34m)\u001b[0m\u001b[0;34m\u001b[0m\u001b[0;34m\u001b[0m\u001b[0m\n\u001b[0m\u001b[1;32m   4358\u001b[0m \u001b[0;34m\u001b[0m\u001b[0m\n\u001b[1;32m   4359\u001b[0m     def _reduce(\n",
            "\u001b[0;32m/usr/local/lib/python3.7/dist-packages/pandas/core/apply.py\u001b[0m in \u001b[0;36mapply\u001b[0;34m(self)\u001b[0m\n\u001b[1;32m   1041\u001b[0m             \u001b[0;32mreturn\u001b[0m \u001b[0mself\u001b[0m\u001b[0;34m.\u001b[0m\u001b[0mapply_str\u001b[0m\u001b[0;34m(\u001b[0m\u001b[0;34m)\u001b[0m\u001b[0;34m\u001b[0m\u001b[0;34m\u001b[0m\u001b[0m\n\u001b[1;32m   1042\u001b[0m \u001b[0;34m\u001b[0m\u001b[0m\n\u001b[0;32m-> 1043\u001b[0;31m         \u001b[0;32mreturn\u001b[0m \u001b[0mself\u001b[0m\u001b[0;34m.\u001b[0m\u001b[0mapply_standard\u001b[0m\u001b[0;34m(\u001b[0m\u001b[0;34m)\u001b[0m\u001b[0;34m\u001b[0m\u001b[0;34m\u001b[0m\u001b[0m\n\u001b[0m\u001b[1;32m   1044\u001b[0m \u001b[0;34m\u001b[0m\u001b[0m\n\u001b[1;32m   1045\u001b[0m     \u001b[0;32mdef\u001b[0m \u001b[0magg\u001b[0m\u001b[0;34m(\u001b[0m\u001b[0mself\u001b[0m\u001b[0;34m)\u001b[0m\u001b[0;34m:\u001b[0m\u001b[0;34m\u001b[0m\u001b[0;34m\u001b[0m\u001b[0m\n",
            "\u001b[0;32m/usr/local/lib/python3.7/dist-packages/pandas/core/apply.py\u001b[0m in \u001b[0;36mapply_standard\u001b[0;34m(self)\u001b[0m\n\u001b[1;32m   1099\u001b[0m                     \u001b[0mvalues\u001b[0m\u001b[0;34m,\u001b[0m\u001b[0;34m\u001b[0m\u001b[0;34m\u001b[0m\u001b[0m\n\u001b[1;32m   1100\u001b[0m                     \u001b[0mf\u001b[0m\u001b[0;34m,\u001b[0m  \u001b[0;31m# type: ignore[arg-type]\u001b[0m\u001b[0;34m\u001b[0m\u001b[0;34m\u001b[0m\u001b[0m\n\u001b[0;32m-> 1101\u001b[0;31m                     \u001b[0mconvert\u001b[0m\u001b[0;34m=\u001b[0m\u001b[0mself\u001b[0m\u001b[0;34m.\u001b[0m\u001b[0mconvert_dtype\u001b[0m\u001b[0;34m,\u001b[0m\u001b[0;34m\u001b[0m\u001b[0;34m\u001b[0m\u001b[0m\n\u001b[0m\u001b[1;32m   1102\u001b[0m                 )\n\u001b[1;32m   1103\u001b[0m \u001b[0;34m\u001b[0m\u001b[0m\n",
            "\u001b[0;32m/usr/local/lib/python3.7/dist-packages/pandas/_libs/lib.pyx\u001b[0m in \u001b[0;36mpandas._libs.lib.map_infer\u001b[0;34m()\u001b[0m\n",
            "\u001b[0;32m<ipython-input-131-4c2bbe61e019>\u001b[0m in \u001b[0;36m<lambda>\u001b[0;34m(x)\u001b[0m\n\u001b[1;32m      1\u001b[0m \u001b[0;31m# Creating a lambda expression for datetime parsing\u001b[0m\u001b[0;34m\u001b[0m\u001b[0;34m\u001b[0m\u001b[0;34m\u001b[0m\u001b[0m\n\u001b[0;32m----> 2\u001b[0;31m \u001b[0mdateparse\u001b[0m \u001b[0;34m=\u001b[0m \u001b[0;32mlambda\u001b[0m \u001b[0mx\u001b[0m\u001b[0;34m:\u001b[0m \u001b[0mdatetime\u001b[0m\u001b[0;34m.\u001b[0m\u001b[0mstrptime\u001b[0m\u001b[0;34m(\u001b[0m\u001b[0mx\u001b[0m\u001b[0;34m,\u001b[0m \u001b[0;34m\"%m/%d/%Y %H:%M:%S %p\"\u001b[0m\u001b[0;34m)\u001b[0m\u001b[0;34m\u001b[0m\u001b[0;34m\u001b[0m\u001b[0m\n\u001b[0m",
            "\u001b[0;32m/usr/lib/python3.7/_strptime.py\u001b[0m in \u001b[0;36m_strptime_datetime\u001b[0;34m(cls, data_string, format)\u001b[0m\n\u001b[1;32m    575\u001b[0m     \"\"\"Return a class cls instance based on the input string and the\n\u001b[1;32m    576\u001b[0m     format string.\"\"\"\n\u001b[0;32m--> 577\u001b[0;31m     \u001b[0mtt\u001b[0m\u001b[0;34m,\u001b[0m \u001b[0mfraction\u001b[0m\u001b[0;34m,\u001b[0m \u001b[0mgmtoff_fraction\u001b[0m \u001b[0;34m=\u001b[0m \u001b[0m_strptime\u001b[0m\u001b[0;34m(\u001b[0m\u001b[0mdata_string\u001b[0m\u001b[0;34m,\u001b[0m \u001b[0mformat\u001b[0m\u001b[0;34m)\u001b[0m\u001b[0;34m\u001b[0m\u001b[0;34m\u001b[0m\u001b[0m\n\u001b[0m\u001b[1;32m    578\u001b[0m     \u001b[0mtzname\u001b[0m\u001b[0;34m,\u001b[0m \u001b[0mgmtoff\u001b[0m \u001b[0;34m=\u001b[0m \u001b[0mtt\u001b[0m\u001b[0;34m[\u001b[0m\u001b[0;34m-\u001b[0m\u001b[0;36m2\u001b[0m\u001b[0;34m:\u001b[0m\u001b[0;34m]\u001b[0m\u001b[0;34m\u001b[0m\u001b[0;34m\u001b[0m\u001b[0m\n\u001b[1;32m    579\u001b[0m     \u001b[0margs\u001b[0m \u001b[0;34m=\u001b[0m \u001b[0mtt\u001b[0m\u001b[0;34m[\u001b[0m\u001b[0;34m:\u001b[0m\u001b[0;36m6\u001b[0m\u001b[0;34m]\u001b[0m \u001b[0;34m+\u001b[0m \u001b[0;34m(\u001b[0m\u001b[0mfraction\u001b[0m\u001b[0;34m,\u001b[0m\u001b[0;34m)\u001b[0m\u001b[0;34m\u001b[0m\u001b[0;34m\u001b[0m\u001b[0m\n",
            "\u001b[0;32m/usr/lib/python3.7/_strptime.py\u001b[0m in \u001b[0;36m_strptime\u001b[0;34m(data_string, format)\u001b[0m\n\u001b[1;32m    357\u001b[0m     \u001b[0;32mif\u001b[0m \u001b[0;32mnot\u001b[0m \u001b[0mfound\u001b[0m\u001b[0;34m:\u001b[0m\u001b[0;34m\u001b[0m\u001b[0;34m\u001b[0m\u001b[0m\n\u001b[1;32m    358\u001b[0m         raise ValueError(\"time data %r does not match format %r\" %\n\u001b[0;32m--> 359\u001b[0;31m                          (data_string, format))\n\u001b[0m\u001b[1;32m    360\u001b[0m     \u001b[0;32mif\u001b[0m \u001b[0mlen\u001b[0m\u001b[0;34m(\u001b[0m\u001b[0mdata_string\u001b[0m\u001b[0;34m)\u001b[0m \u001b[0;34m!=\u001b[0m \u001b[0mfound\u001b[0m\u001b[0;34m.\u001b[0m\u001b[0mend\u001b[0m\u001b[0;34m(\u001b[0m\u001b[0;34m)\u001b[0m\u001b[0;34m:\u001b[0m\u001b[0;34m\u001b[0m\u001b[0;34m\u001b[0m\u001b[0m\n\u001b[1;32m    361\u001b[0m         raise ValueError(\"unconverted data remains: %s\" %\n",
            "\u001b[0;31mValueError\u001b[0m: time data 'TOTAL' does not match format '%m/%d/%Y %H:%M:%S %p'"
          ]
        }
      ],
      "source": [
        "# Applying the validation to all values in column\n",
        "homicides_df[\"FECHA\"].apply(dateparse)\n",
        "\n",
        "# IT IS EXPECTED TO HAVE AN ERROR INTENTIONALLY"
      ]
    },
    {
      "cell_type": "code",
      "execution_count": 9,
      "metadata": {
        "id": "EmY-uQC0wzTV"
      },
      "outputs": [],
      "source": [
        "# Creating a function for validating which value is causing the previous error\n",
        "def error_in_format(x):\n",
        "    try:\n",
        "        datetime.strptime(x, \"%m/%d/%Y %H:%M:%S %p\")\n",
        "        return False\n",
        "    except:\n",
        "        return True"
      ]
    },
    {
      "cell_type": "code",
      "execution_count": 10,
      "metadata": {
        "id": "mo93ylccwzTV",
        "colab": {
          "base_uri": "https://localhost:8080/",
          "height": 159
        },
        "outputId": "4ba6a844-5f05-4291-b9bb-57e32e10cf66"
      },
      "outputs": [
        {
          "output_type": "execute_result",
          "data": {
            "text/plain": [
              "       FECHA DEPARTAMENTO MUNICIPIO  DIA HORA BARRIO ZONA CLASE DE SITIO  \\\n",
              "12399  TOTAL          NaN       NaN  NaN  NaN    NaN  NaN            NaN   \n",
              "\n",
              "      ARMA O MEDIO MOVIL VICTIMA MOVIL AGRESOR  EDAD GENERO ESTADO CIVIL  \\\n",
              "12399          NaN           NaN           NaN   NaN    NaN          NaN   \n",
              "\n",
              "      CLASE EMPLEADO PROFESION ESCOLARIDAD PAIS NACE  CODIGO DANE  \\\n",
              "12399            NaN       NaN         NaN       NaN          NaN   \n",
              "\n",
              "       AÑO DE NACIMIENTO CÉDULA CORREO  \n",
              "12399                NaN    NaN    NaN  "
            ],
            "text/html": [
              "\n",
              "  <div id=\"df-c68e3d91-b436-4e44-9b62-de76ba134084\">\n",
              "    <div class=\"colab-df-container\">\n",
              "      <div>\n",
              "<style scoped>\n",
              "    .dataframe tbody tr th:only-of-type {\n",
              "        vertical-align: middle;\n",
              "    }\n",
              "\n",
              "    .dataframe tbody tr th {\n",
              "        vertical-align: top;\n",
              "    }\n",
              "\n",
              "    .dataframe thead th {\n",
              "        text-align: right;\n",
              "    }\n",
              "</style>\n",
              "<table border=\"1\" class=\"dataframe\">\n",
              "  <thead>\n",
              "    <tr style=\"text-align: right;\">\n",
              "      <th></th>\n",
              "      <th>FECHA</th>\n",
              "      <th>DEPARTAMENTO</th>\n",
              "      <th>MUNICIPIO</th>\n",
              "      <th>DIA</th>\n",
              "      <th>HORA</th>\n",
              "      <th>BARRIO</th>\n",
              "      <th>ZONA</th>\n",
              "      <th>CLASE DE SITIO</th>\n",
              "      <th>ARMA O MEDIO</th>\n",
              "      <th>MOVIL VICTIMA</th>\n",
              "      <th>MOVIL AGRESOR</th>\n",
              "      <th>EDAD</th>\n",
              "      <th>GENERO</th>\n",
              "      <th>ESTADO CIVIL</th>\n",
              "      <th>CLASE EMPLEADO</th>\n",
              "      <th>PROFESION</th>\n",
              "      <th>ESCOLARIDAD</th>\n",
              "      <th>PAIS NACE</th>\n",
              "      <th>CODIGO DANE</th>\n",
              "      <th>AÑO DE NACIMIENTO</th>\n",
              "      <th>CÉDULA</th>\n",
              "      <th>CORREO</th>\n",
              "    </tr>\n",
              "  </thead>\n",
              "  <tbody>\n",
              "    <tr>\n",
              "      <th>12399</th>\n",
              "      <td>TOTAL</td>\n",
              "      <td>NaN</td>\n",
              "      <td>NaN</td>\n",
              "      <td>NaN</td>\n",
              "      <td>NaN</td>\n",
              "      <td>NaN</td>\n",
              "      <td>NaN</td>\n",
              "      <td>NaN</td>\n",
              "      <td>NaN</td>\n",
              "      <td>NaN</td>\n",
              "      <td>NaN</td>\n",
              "      <td>NaN</td>\n",
              "      <td>NaN</td>\n",
              "      <td>NaN</td>\n",
              "      <td>NaN</td>\n",
              "      <td>NaN</td>\n",
              "      <td>NaN</td>\n",
              "      <td>NaN</td>\n",
              "      <td>NaN</td>\n",
              "      <td>NaN</td>\n",
              "      <td>NaN</td>\n",
              "      <td>NaN</td>\n",
              "    </tr>\n",
              "  </tbody>\n",
              "</table>\n",
              "</div>\n",
              "      <button class=\"colab-df-convert\" onclick=\"convertToInteractive('df-c68e3d91-b436-4e44-9b62-de76ba134084')\"\n",
              "              title=\"Convert this dataframe to an interactive table.\"\n",
              "              style=\"display:none;\">\n",
              "        \n",
              "  <svg xmlns=\"http://www.w3.org/2000/svg\" height=\"24px\"viewBox=\"0 0 24 24\"\n",
              "       width=\"24px\">\n",
              "    <path d=\"M0 0h24v24H0V0z\" fill=\"none\"/>\n",
              "    <path d=\"M18.56 5.44l.94 2.06.94-2.06 2.06-.94-2.06-.94-.94-2.06-.94 2.06-2.06.94zm-11 1L8.5 8.5l.94-2.06 2.06-.94-2.06-.94L8.5 2.5l-.94 2.06-2.06.94zm10 10l.94 2.06.94-2.06 2.06-.94-2.06-.94-.94-2.06-.94 2.06-2.06.94z\"/><path d=\"M17.41 7.96l-1.37-1.37c-.4-.4-.92-.59-1.43-.59-.52 0-1.04.2-1.43.59L10.3 9.45l-7.72 7.72c-.78.78-.78 2.05 0 2.83L4 21.41c.39.39.9.59 1.41.59.51 0 1.02-.2 1.41-.59l7.78-7.78 2.81-2.81c.8-.78.8-2.07 0-2.86zM5.41 20L4 18.59l7.72-7.72 1.47 1.35L5.41 20z\"/>\n",
              "  </svg>\n",
              "      </button>\n",
              "      \n",
              "  <style>\n",
              "    .colab-df-container {\n",
              "      display:flex;\n",
              "      flex-wrap:wrap;\n",
              "      gap: 12px;\n",
              "    }\n",
              "\n",
              "    .colab-df-convert {\n",
              "      background-color: #E8F0FE;\n",
              "      border: none;\n",
              "      border-radius: 50%;\n",
              "      cursor: pointer;\n",
              "      display: none;\n",
              "      fill: #1967D2;\n",
              "      height: 32px;\n",
              "      padding: 0 0 0 0;\n",
              "      width: 32px;\n",
              "    }\n",
              "\n",
              "    .colab-df-convert:hover {\n",
              "      background-color: #E2EBFA;\n",
              "      box-shadow: 0px 1px 2px rgba(60, 64, 67, 0.3), 0px 1px 3px 1px rgba(60, 64, 67, 0.15);\n",
              "      fill: #174EA6;\n",
              "    }\n",
              "\n",
              "    [theme=dark] .colab-df-convert {\n",
              "      background-color: #3B4455;\n",
              "      fill: #D2E3FC;\n",
              "    }\n",
              "\n",
              "    [theme=dark] .colab-df-convert:hover {\n",
              "      background-color: #434B5C;\n",
              "      box-shadow: 0px 1px 3px 1px rgba(0, 0, 0, 0.15);\n",
              "      filter: drop-shadow(0px 1px 2px rgba(0, 0, 0, 0.3));\n",
              "      fill: #FFFFFF;\n",
              "    }\n",
              "  </style>\n",
              "\n",
              "      <script>\n",
              "        const buttonEl =\n",
              "          document.querySelector('#df-c68e3d91-b436-4e44-9b62-de76ba134084 button.colab-df-convert');\n",
              "        buttonEl.style.display =\n",
              "          google.colab.kernel.accessAllowed ? 'block' : 'none';\n",
              "\n",
              "        async function convertToInteractive(key) {\n",
              "          const element = document.querySelector('#df-c68e3d91-b436-4e44-9b62-de76ba134084');\n",
              "          const dataTable =\n",
              "            await google.colab.kernel.invokeFunction('convertToInteractive',\n",
              "                                                     [key], {});\n",
              "          if (!dataTable) return;\n",
              "\n",
              "          const docLinkHtml = 'Like what you see? Visit the ' +\n",
              "            '<a target=\"_blank\" href=https://colab.research.google.com/notebooks/data_table.ipynb>data table notebook</a>'\n",
              "            + ' to learn more about interactive tables.';\n",
              "          element.innerHTML = '';\n",
              "          dataTable['output_type'] = 'display_data';\n",
              "          await google.colab.output.renderOutput(dataTable, element);\n",
              "          const docLink = document.createElement('div');\n",
              "          docLink.innerHTML = docLinkHtml;\n",
              "          element.appendChild(docLink);\n",
              "        }\n",
              "      </script>\n",
              "    </div>\n",
              "  </div>\n",
              "  "
            ]
          },
          "metadata": {},
          "execution_count": 10
        }
      ],
      "source": [
        "# Using the function for validation\n",
        "homicides_df.loc[homicides_df[\"FECHA\"].apply(error_in_format)]\n",
        "\n",
        "# THE LAST ROW IS CAUSING THE ERROR"
      ]
    },
    {
      "cell_type": "code",
      "source": [
        "homicides_df.loc[homicides_df[\"FECHA\"].apply(error_in_format)].index"
      ],
      "metadata": {
        "colab": {
          "base_uri": "https://localhost:8080/"
        },
        "id": "mga0cv0K05xx",
        "outputId": "0b797a58-64b6-4d77-af36-1f5c179e7469"
      },
      "execution_count": 11,
      "outputs": [
        {
          "output_type": "execute_result",
          "data": {
            "text/plain": [
              "Int64Index([12399], dtype='int64')"
            ]
          },
          "metadata": {},
          "execution_count": 11
        }
      ]
    },
    {
      "cell_type": "code",
      "execution_count": 12,
      "metadata": {
        "id": "i1kJqa0xwzTW"
      },
      "outputs": [],
      "source": [
        "# Deleting a row by its index\n",
        "#homicides_df.drop(12399, inplace = True)\n",
        "homicides_df.drop(homicides_df.loc[homicides_df[\"FECHA\"].apply(error_in_format)].index, inplace=True)"
      ]
    },
    {
      "cell_type": "code",
      "execution_count": 13,
      "metadata": {
        "id": "CpNR3JkSwzTW"
      },
      "outputs": [],
      "source": [
        "# Trying to parse the datetime string again\n",
        "homicides_df[\"FECHA\"] = homicides_df[\"FECHA\"].apply(dateparse)"
      ]
    },
    {
      "cell_type": "code",
      "execution_count": 14,
      "metadata": {
        "id": "JqbN8xWdwzTW",
        "colab": {
          "base_uri": "https://localhost:8080/"
        },
        "outputId": "79ca9ab0-c88f-4225-94ce-496593711c8c"
      },
      "outputs": [
        {
          "output_type": "execute_result",
          "data": {
            "text/plain": [
              "12    12399\n",
              "Name: FECHA, dtype: int64"
            ]
          },
          "metadata": {},
          "execution_count": 14
        }
      ],
      "source": [
        "# Counting homicides by hour\n",
        "homicides_df[\"FECHA\"].dt.hour.value_counts()\n",
        "\n",
        "# All datetime hour parts are the same"
      ]
    },
    {
      "cell_type": "code",
      "execution_count": 15,
      "metadata": {
        "id": "Ka-2rxvzwzTW"
      },
      "outputs": [],
      "source": [
        "# The homicide hour is available in a different column!\n",
        "# Merging both columns\n",
        "homicides_df[\"FECHA\"] = homicides_df[\"FECHA\"].astype(str).apply(lambda x: x[:11]) + homicides_df[\"HORA\"]"
      ]
    },
    {
      "cell_type": "code",
      "execution_count": 16,
      "metadata": {
        "id": "XUUS9dJbwzTX"
      },
      "outputs": [],
      "source": [
        "del homicides_df[\"HORA\"]"
      ]
    },
    {
      "cell_type": "code",
      "execution_count": 17,
      "metadata": {
        "id": "DF7jffu3wzTX",
        "colab": {
          "base_uri": "https://localhost:8080/"
        },
        "outputId": "8186edd6-c9c8-4414-fee7-e4b6f8d5a6cf"
      },
      "outputs": [
        {
          "output_type": "execute_result",
          "data": {
            "text/plain": [
              "0     2021-01-01 6:00\n",
              "1     2021-01-01 9:00\n",
              "2    2021-01-01 19:00\n",
              "3    2021-01-01 11:20\n",
              "4    2021-01-01 15:00\n",
              "Name: FECHA, dtype: object"
            ]
          },
          "metadata": {},
          "execution_count": 17
        }
      ],
      "source": [
        "homicides_df[\"FECHA\"].head()"
      ]
    },
    {
      "cell_type": "code",
      "execution_count": 18,
      "metadata": {
        "id": "DJ2-k-q0wzTX"
      },
      "outputs": [],
      "source": [
        "# Making a new expression for datetime parsing\n",
        "dateparse = lambda x: datetime.strptime(x, \"%Y-%m-%d %H:%M\")"
      ]
    },
    {
      "cell_type": "code",
      "execution_count": 19,
      "metadata": {
        "id": "v3vCjN4VwzTX"
      },
      "outputs": [],
      "source": [
        "# Applying the expression\n",
        "homicides_df[\"FECHA\"] = homicides_df[\"FECHA\"].apply(dateparse)"
      ]
    },
    {
      "cell_type": "code",
      "execution_count": 20,
      "metadata": {
        "id": "03QJN5GowzTY",
        "colab": {
          "base_uri": "https://localhost:8080/"
        },
        "outputId": "1d871e34-b3cd-469f-e6e9-9f6682f2984d"
      },
      "outputs": [
        {
          "output_type": "execute_result",
          "data": {
            "text/plain": [
              "FECHA                datetime64[ns]\n",
              "DEPARTAMENTO                 object\n",
              "MUNICIPIO                    object\n",
              "DIA                          object\n",
              "BARRIO                       object\n",
              "ZONA                         object\n",
              "CLASE DE SITIO               object\n",
              "ARMA O MEDIO                 object\n",
              "MOVIL VICTIMA                object\n",
              "MOVIL AGRESOR                object\n",
              "EDAD                        float64\n",
              "GENERO                       object\n",
              "ESTADO CIVIL                 object\n",
              "CLASE EMPLEADO               object\n",
              "PROFESION                    object\n",
              "ESCOLARIDAD                  object\n",
              "PAIS NACE                    object\n",
              "CODIGO DANE                 float64\n",
              "AÑO DE NACIMIENTO           float64\n",
              "CÉDULA                       object\n",
              "CORREO                       object\n",
              "dtype: object"
            ]
          },
          "metadata": {},
          "execution_count": 20
        }
      ],
      "source": [
        "homicides_df.dtypes"
      ]
    },
    {
      "cell_type": "code",
      "execution_count": 21,
      "metadata": {
        "id": "CJ7STeDJwzTY",
        "colab": {
          "base_uri": "https://localhost:8080/",
          "height": 461
        },
        "outputId": "09e0579f-a012-4e9e-a0f2-f7a7235c801f"
      },
      "outputs": [
        {
          "output_type": "execute_result",
          "data": {
            "text/plain": [
              "                FECHA DEPARTAMENTO      MUNICIPIO     DIA  \\\n",
              "0 2021-01-01 06:00:00    ANTIOQUIA          AMAGÁ  Jueves   \n",
              "1 2021-01-01 09:00:00    ANTIOQUIA        BARBOSA  Jueves   \n",
              "2 2021-01-01 19:00:00    ANTIOQUIA       EL BAGRE  Jueves   \n",
              "3 2021-01-01 11:20:00    ANTIOQUIA         JARDÍN  Jueves   \n",
              "4 2021-01-01 15:00:00    ANTIOQUIA  MEDELLÍN (CT)   Juees   \n",
              "\n",
              "                     BARRIO    ZONA                      CLASE DE SITIO  \\\n",
              "0                 EL VOLCAN   RURAL                              TIENDA   \n",
              "1            VDA. MATASANOS   RURAL                       VIAS PUBLICAS   \n",
              "2             PUERTO CLAVER   RURAL                  FINCAS Y SIMILARES   \n",
              "3                CRISTIANIA   RURAL                  FINCAS Y SIMILARES   \n",
              "4  PICACHITO CNO REPORTADO6  URBANA  FRENTE A RESIDENCIAS - VIA PUBLICA   \n",
              "\n",
              "   ARMA O MEDIO MOVIL VICTIMA MOVIL AGRESOR  EDAD     GENERO ESTADO CIVIL  \\\n",
              "0   ARMA BLANCA         A PIE         A PIE  44.0  MASCULINO       CASADO   \n",
              "1   ARMA BLANCA         A PIE         A PIE  30.0  MASCULINO      SOLTERO   \n",
              "2   ARMA BLANCA         A PIE         A PIE  33.0  MASCULINO  UNION LIBRE   \n",
              "3   ARMA BLANCA         A PIE         A PIE  40.0  MASCULINO       CASADO   \n",
              "4  CONTUNDENTES         A PIE         A PIE  66.0  MASCULINO  UNION LIBRE   \n",
              "\n",
              "  CLASE EMPLEADO     PROFESION ESCOLARIDAD     PAIS NACE  CODIGO DANE  \\\n",
              "0  INDEPENDIENTE  NO REPORTADO    PRIMARIA      COLOMBIA    5030000.0   \n",
              "1    DESEMPLEADO  NO REPORTADO  SECUNDARIA  NO REPORTADO    5079000.0   \n",
              "2     AGRICULTOR  NO REPORTADO    PRIMARIA      COLOMBIA    5250000.0   \n",
              "3     AGRICULTOR  NO REPORTADO    PRIMARIA      COLOMBIA    5364000.0   \n",
              "4    DESEMPLEADO  NO REPORTADO    PRIMARIA      COLOMBIA    5001000.0   \n",
              "\n",
              "   AÑO DE NACIMIENTO  CÉDULA                      CORREO  \n",
              "0             1971.0  42-908  agbnqg2122@unidatos.edu.co  \n",
              "1             1985.0  15-183        rbkeui3584@gmail.com  \n",
              "2             1982.0  84-786  aorkhf9155@unidatos.edu.co  \n",
              "3             1975.0  31-289  dhtemr6623@unidatos.edu.co  \n",
              "4             1949.0  66-363  artatj9268@unidatos.edu.co  "
            ],
            "text/html": [
              "\n",
              "  <div id=\"df-2e2b57ec-b4f0-4cf6-869c-ca480135524b\">\n",
              "    <div class=\"colab-df-container\">\n",
              "      <div>\n",
              "<style scoped>\n",
              "    .dataframe tbody tr th:only-of-type {\n",
              "        vertical-align: middle;\n",
              "    }\n",
              "\n",
              "    .dataframe tbody tr th {\n",
              "        vertical-align: top;\n",
              "    }\n",
              "\n",
              "    .dataframe thead th {\n",
              "        text-align: right;\n",
              "    }\n",
              "</style>\n",
              "<table border=\"1\" class=\"dataframe\">\n",
              "  <thead>\n",
              "    <tr style=\"text-align: right;\">\n",
              "      <th></th>\n",
              "      <th>FECHA</th>\n",
              "      <th>DEPARTAMENTO</th>\n",
              "      <th>MUNICIPIO</th>\n",
              "      <th>DIA</th>\n",
              "      <th>BARRIO</th>\n",
              "      <th>ZONA</th>\n",
              "      <th>CLASE DE SITIO</th>\n",
              "      <th>ARMA O MEDIO</th>\n",
              "      <th>MOVIL VICTIMA</th>\n",
              "      <th>MOVIL AGRESOR</th>\n",
              "      <th>EDAD</th>\n",
              "      <th>GENERO</th>\n",
              "      <th>ESTADO CIVIL</th>\n",
              "      <th>CLASE EMPLEADO</th>\n",
              "      <th>PROFESION</th>\n",
              "      <th>ESCOLARIDAD</th>\n",
              "      <th>PAIS NACE</th>\n",
              "      <th>CODIGO DANE</th>\n",
              "      <th>AÑO DE NACIMIENTO</th>\n",
              "      <th>CÉDULA</th>\n",
              "      <th>CORREO</th>\n",
              "    </tr>\n",
              "  </thead>\n",
              "  <tbody>\n",
              "    <tr>\n",
              "      <th>0</th>\n",
              "      <td>2021-01-01 06:00:00</td>\n",
              "      <td>ANTIOQUIA</td>\n",
              "      <td>AMAGÁ</td>\n",
              "      <td>Jueves</td>\n",
              "      <td>EL VOLCAN</td>\n",
              "      <td>RURAL</td>\n",
              "      <td>TIENDA</td>\n",
              "      <td>ARMA BLANCA</td>\n",
              "      <td>A PIE</td>\n",
              "      <td>A PIE</td>\n",
              "      <td>44.0</td>\n",
              "      <td>MASCULINO</td>\n",
              "      <td>CASADO</td>\n",
              "      <td>INDEPENDIENTE</td>\n",
              "      <td>NO REPORTADO</td>\n",
              "      <td>PRIMARIA</td>\n",
              "      <td>COLOMBIA</td>\n",
              "      <td>5030000.0</td>\n",
              "      <td>1971.0</td>\n",
              "      <td>42-908</td>\n",
              "      <td>agbnqg2122@unidatos.edu.co</td>\n",
              "    </tr>\n",
              "    <tr>\n",
              "      <th>1</th>\n",
              "      <td>2021-01-01 09:00:00</td>\n",
              "      <td>ANTIOQUIA</td>\n",
              "      <td>BARBOSA</td>\n",
              "      <td>Jueves</td>\n",
              "      <td>VDA. MATASANOS</td>\n",
              "      <td>RURAL</td>\n",
              "      <td>VIAS PUBLICAS</td>\n",
              "      <td>ARMA BLANCA</td>\n",
              "      <td>A PIE</td>\n",
              "      <td>A PIE</td>\n",
              "      <td>30.0</td>\n",
              "      <td>MASCULINO</td>\n",
              "      <td>SOLTERO</td>\n",
              "      <td>DESEMPLEADO</td>\n",
              "      <td>NO REPORTADO</td>\n",
              "      <td>SECUNDARIA</td>\n",
              "      <td>NO REPORTADO</td>\n",
              "      <td>5079000.0</td>\n",
              "      <td>1985.0</td>\n",
              "      <td>15-183</td>\n",
              "      <td>rbkeui3584@gmail.com</td>\n",
              "    </tr>\n",
              "    <tr>\n",
              "      <th>2</th>\n",
              "      <td>2021-01-01 19:00:00</td>\n",
              "      <td>ANTIOQUIA</td>\n",
              "      <td>EL BAGRE</td>\n",
              "      <td>Jueves</td>\n",
              "      <td>PUERTO CLAVER</td>\n",
              "      <td>RURAL</td>\n",
              "      <td>FINCAS Y SIMILARES</td>\n",
              "      <td>ARMA BLANCA</td>\n",
              "      <td>A PIE</td>\n",
              "      <td>A PIE</td>\n",
              "      <td>33.0</td>\n",
              "      <td>MASCULINO</td>\n",
              "      <td>UNION LIBRE</td>\n",
              "      <td>AGRICULTOR</td>\n",
              "      <td>NO REPORTADO</td>\n",
              "      <td>PRIMARIA</td>\n",
              "      <td>COLOMBIA</td>\n",
              "      <td>5250000.0</td>\n",
              "      <td>1982.0</td>\n",
              "      <td>84-786</td>\n",
              "      <td>aorkhf9155@unidatos.edu.co</td>\n",
              "    </tr>\n",
              "    <tr>\n",
              "      <th>3</th>\n",
              "      <td>2021-01-01 11:20:00</td>\n",
              "      <td>ANTIOQUIA</td>\n",
              "      <td>JARDÍN</td>\n",
              "      <td>Jueves</td>\n",
              "      <td>CRISTIANIA</td>\n",
              "      <td>RURAL</td>\n",
              "      <td>FINCAS Y SIMILARES</td>\n",
              "      <td>ARMA BLANCA</td>\n",
              "      <td>A PIE</td>\n",
              "      <td>A PIE</td>\n",
              "      <td>40.0</td>\n",
              "      <td>MASCULINO</td>\n",
              "      <td>CASADO</td>\n",
              "      <td>AGRICULTOR</td>\n",
              "      <td>NO REPORTADO</td>\n",
              "      <td>PRIMARIA</td>\n",
              "      <td>COLOMBIA</td>\n",
              "      <td>5364000.0</td>\n",
              "      <td>1975.0</td>\n",
              "      <td>31-289</td>\n",
              "      <td>dhtemr6623@unidatos.edu.co</td>\n",
              "    </tr>\n",
              "    <tr>\n",
              "      <th>4</th>\n",
              "      <td>2021-01-01 15:00:00</td>\n",
              "      <td>ANTIOQUIA</td>\n",
              "      <td>MEDELLÍN (CT)</td>\n",
              "      <td>Juees</td>\n",
              "      <td>PICACHITO CNO REPORTADO6</td>\n",
              "      <td>URBANA</td>\n",
              "      <td>FRENTE A RESIDENCIAS - VIA PUBLICA</td>\n",
              "      <td>CONTUNDENTES</td>\n",
              "      <td>A PIE</td>\n",
              "      <td>A PIE</td>\n",
              "      <td>66.0</td>\n",
              "      <td>MASCULINO</td>\n",
              "      <td>UNION LIBRE</td>\n",
              "      <td>DESEMPLEADO</td>\n",
              "      <td>NO REPORTADO</td>\n",
              "      <td>PRIMARIA</td>\n",
              "      <td>COLOMBIA</td>\n",
              "      <td>5001000.0</td>\n",
              "      <td>1949.0</td>\n",
              "      <td>66-363</td>\n",
              "      <td>artatj9268@unidatos.edu.co</td>\n",
              "    </tr>\n",
              "  </tbody>\n",
              "</table>\n",
              "</div>\n",
              "      <button class=\"colab-df-convert\" onclick=\"convertToInteractive('df-2e2b57ec-b4f0-4cf6-869c-ca480135524b')\"\n",
              "              title=\"Convert this dataframe to an interactive table.\"\n",
              "              style=\"display:none;\">\n",
              "        \n",
              "  <svg xmlns=\"http://www.w3.org/2000/svg\" height=\"24px\"viewBox=\"0 0 24 24\"\n",
              "       width=\"24px\">\n",
              "    <path d=\"M0 0h24v24H0V0z\" fill=\"none\"/>\n",
              "    <path d=\"M18.56 5.44l.94 2.06.94-2.06 2.06-.94-2.06-.94-.94-2.06-.94 2.06-2.06.94zm-11 1L8.5 8.5l.94-2.06 2.06-.94-2.06-.94L8.5 2.5l-.94 2.06-2.06.94zm10 10l.94 2.06.94-2.06 2.06-.94-2.06-.94-.94-2.06-.94 2.06-2.06.94z\"/><path d=\"M17.41 7.96l-1.37-1.37c-.4-.4-.92-.59-1.43-.59-.52 0-1.04.2-1.43.59L10.3 9.45l-7.72 7.72c-.78.78-.78 2.05 0 2.83L4 21.41c.39.39.9.59 1.41.59.51 0 1.02-.2 1.41-.59l7.78-7.78 2.81-2.81c.8-.78.8-2.07 0-2.86zM5.41 20L4 18.59l7.72-7.72 1.47 1.35L5.41 20z\"/>\n",
              "  </svg>\n",
              "      </button>\n",
              "      \n",
              "  <style>\n",
              "    .colab-df-container {\n",
              "      display:flex;\n",
              "      flex-wrap:wrap;\n",
              "      gap: 12px;\n",
              "    }\n",
              "\n",
              "    .colab-df-convert {\n",
              "      background-color: #E8F0FE;\n",
              "      border: none;\n",
              "      border-radius: 50%;\n",
              "      cursor: pointer;\n",
              "      display: none;\n",
              "      fill: #1967D2;\n",
              "      height: 32px;\n",
              "      padding: 0 0 0 0;\n",
              "      width: 32px;\n",
              "    }\n",
              "\n",
              "    .colab-df-convert:hover {\n",
              "      background-color: #E2EBFA;\n",
              "      box-shadow: 0px 1px 2px rgba(60, 64, 67, 0.3), 0px 1px 3px 1px rgba(60, 64, 67, 0.15);\n",
              "      fill: #174EA6;\n",
              "    }\n",
              "\n",
              "    [theme=dark] .colab-df-convert {\n",
              "      background-color: #3B4455;\n",
              "      fill: #D2E3FC;\n",
              "    }\n",
              "\n",
              "    [theme=dark] .colab-df-convert:hover {\n",
              "      background-color: #434B5C;\n",
              "      box-shadow: 0px 1px 3px 1px rgba(0, 0, 0, 0.15);\n",
              "      filter: drop-shadow(0px 1px 2px rgba(0, 0, 0, 0.3));\n",
              "      fill: #FFFFFF;\n",
              "    }\n",
              "  </style>\n",
              "\n",
              "      <script>\n",
              "        const buttonEl =\n",
              "          document.querySelector('#df-2e2b57ec-b4f0-4cf6-869c-ca480135524b button.colab-df-convert');\n",
              "        buttonEl.style.display =\n",
              "          google.colab.kernel.accessAllowed ? 'block' : 'none';\n",
              "\n",
              "        async function convertToInteractive(key) {\n",
              "          const element = document.querySelector('#df-2e2b57ec-b4f0-4cf6-869c-ca480135524b');\n",
              "          const dataTable =\n",
              "            await google.colab.kernel.invokeFunction('convertToInteractive',\n",
              "                                                     [key], {});\n",
              "          if (!dataTable) return;\n",
              "\n",
              "          const docLinkHtml = 'Like what you see? Visit the ' +\n",
              "            '<a target=\"_blank\" href=https://colab.research.google.com/notebooks/data_table.ipynb>data table notebook</a>'\n",
              "            + ' to learn more about interactive tables.';\n",
              "          element.innerHTML = '';\n",
              "          dataTable['output_type'] = 'display_data';\n",
              "          await google.colab.output.renderOutput(dataTable, element);\n",
              "          const docLink = document.createElement('div');\n",
              "          docLink.innerHTML = docLinkHtml;\n",
              "          element.appendChild(docLink);\n",
              "        }\n",
              "      </script>\n",
              "    </div>\n",
              "  </div>\n",
              "  "
            ]
          },
          "metadata": {},
          "execution_count": 21
        }
      ],
      "source": [
        "homicides_df.head()"
      ]
    },
    {
      "cell_type": "code",
      "execution_count": 22,
      "metadata": {
        "id": "gJWwb3gFwzTY"
      },
      "outputs": [],
      "source": [
        "# Creating a dictionary representing the valid departments for Colombia\n",
        "departments_list = ['ANTIOQUIA', 'ATLÁNTICO', 'BOLÍVAR', 'BOYACÁ', 'CALDAS', 'CAQUETÁ',\n",
        "       'CASANARE', 'CAUCA', 'CESAR', 'CHOCÓ', 'CÓRDOBA', 'META',\n",
        "       'CUNDINAMARCA', 'HUILA', 'MAGDALENA', 'NARIÑO', 'PUTUMAYO',\n",
        "       'RISARALDA', 'SANTANDER', 'SUCRE', 'TOLIMA', 'VALLE',\n",
        "       'NORTE DE SANTANDER', 'GUAJIRA', 'QUINDÍO', 'SAN ANDRÉS Y PROVIDENCIA', 'ARAUCA',\n",
        "       'GUAINÍA', 'VICHADA', 'VAUPÉS', 'GUAVIARE', 'AMAZONAS']"
      ]
    },
    {
      "cell_type": "code",
      "execution_count": 23,
      "metadata": {
        "id": "XOXE8CMdwzTZ",
        "colab": {
          "base_uri": "https://localhost:8080/"
        },
        "outputId": "733c1dec-2073-4b23-8631-ef1e6a1033cd"
      },
      "outputs": [
        {
          "output_type": "execute_result",
          "data": {
            "text/plain": [
              "array(['SAN ANDRÉS', 'N. DE SANTANDER'], dtype=object)"
            ]
          },
          "metadata": {},
          "execution_count": 23
        }
      ],
      "source": [
        "# Finding values not matching with the dictionary\n",
        "homicides_df.loc[~homicides_df[\"DEPARTAMENTO\"].isin(departments_list), \"DEPARTAMENTO\"].unique()"
      ]
    },
    {
      "cell_type": "markdown",
      "metadata": {
        "id": "jd-j5gqhwzTZ"
      },
      "source": [
        "<span style=\"color:red\">TODO: Replace the values identified as error to a valid value from the dictionary</span>\n",
        "\n",
        "<span style=\"color:red\">Hint: You can use the replace() pandas function</span>"
      ]
    },
    {
      "cell_type": "markdown",
      "source": [
        "Dado a que son solo dos casos, se procede a hacer la corrección manulamente:"
      ],
      "metadata": {
        "id": "aJYNMzOA5VWk"
      }
    },
    {
      "cell_type": "code",
      "source": [
        "d = {\"SAN ANDRÉS\" : 'SAN ANDRÉS Y PROVIDENCIA', \"N. DE SANTANDER\" : 'NORTE DE SANTANDER'}\n",
        "homicides_df.replace({\"DEPARTAMENTO\": d},inplace=True)\n",
        "homicides_df.loc[~homicides_df[\"DEPARTAMENTO\"].isin(departments_list), \"DEPARTAMENTO\"].unique()"
      ],
      "metadata": {
        "colab": {
          "base_uri": "https://localhost:8080/"
        },
        "id": "E_5m_c415BQ0",
        "outputId": "e048209e-4212-4edb-de2d-86571e9419fc"
      },
      "execution_count": 24,
      "outputs": [
        {
          "output_type": "execute_result",
          "data": {
            "text/plain": [
              "array([], dtype=object)"
            ]
          },
          "metadata": {},
          "execution_count": 24
        }
      ]
    },
    {
      "cell_type": "code",
      "execution_count": 25,
      "metadata": {
        "id": "h_y8d_DewzTZ"
      },
      "outputs": [],
      "source": [
        "# Detecting duplicates by \"CÉDULA\" column\n",
        "duplicates_by_cedula = homicides_df.loc[homicides_df[\"CÉDULA\"].duplicated(keep = False)]"
      ]
    },
    {
      "cell_type": "code",
      "execution_count": 26,
      "metadata": {
        "id": "Kf7S0fTxwzTZ",
        "colab": {
          "base_uri": "https://localhost:8080/"
        },
        "outputId": "26508605-997b-4bbe-b103-75c53ceae578"
      },
      "outputs": [
        {
          "output_type": "execute_result",
          "data": {
            "text/plain": [
              "(1627, 21)"
            ]
          },
          "metadata": {},
          "execution_count": 26
        }
      ],
      "source": [
        "duplicates_by_cedula.shape"
      ]
    },
    {
      "cell_type": "code",
      "execution_count": 27,
      "metadata": {
        "id": "m2N46gvvwzTZ",
        "colab": {
          "base_uri": "https://localhost:8080/",
          "height": 527
        },
        "outputId": "e28574f5-3fe3-41bc-f844-81d85af3ccb8"
      },
      "outputs": [
        {
          "output_type": "execute_result",
          "data": {
            "text/plain": [
              "                    FECHA DEPARTAMENTO      MUNICIPIO      DIA  \\\n",
              "4041  2021-05-03 23:30:00        CAUCA       EL TAMBO  Domingo   \n",
              "3810  2021-04-26 03:00:00    ANTIOQUIA   SAN JERÓNIMO  Domingo   \n",
              "693   2021-01-19 05:30:00    ANTIOQUIA         SALGAR    Lunes   \n",
              "10796 2021-11-20 03:00:00        VALLE      CALI (CT)  Viernes   \n",
              "2386  2021-03-14 02:00:00         META  FUENTE DE ORO   Sábado   \n",
              "138   2021-01-02 06:20:00        CAUCA         SOTARA  Viernes   \n",
              "\n",
              "                    BARRIO    ZONA                      CLASE DE SITIO  \\\n",
              "4041           LA VICTORIA   RURAL         BARES, CANTINAS Y SIMILARES   \n",
              "3810              LA PLAYA  URBANA  HOTELES, RESIDENCIAS, Y SIMILARES.   \n",
              "693              LA HABANA  URBANA                       VIAS PUBLICAS   \n",
              "10796   POTRERO GRANDE E21  URBANA                       VIAS PUBLICAS   \n",
              "2386   VEREDA PUERTO NUEVO   RURAL         BARES, CANTINAS Y SIMILARES   \n",
              "138                 CENTRO   RURAL                       VIAS PUBLICAS   \n",
              "\n",
              "             ARMA O MEDIO MOVIL VICTIMA MOVIL AGRESOR  EDAD     GENERO  \\\n",
              "4041        ARMA DE FUEGO         A PIE         A PIE  45.0  MASCULINO   \n",
              "3810   CUERDA/SOGA/CADENA         A PIE         A PIE  25.0  MASCULINO   \n",
              "693         ARMA DE FUEGO         A PIE         A PIE  58.0  MASCULINO   \n",
              "10796       ARMA DE FUEGO         A PIE         A PIE  21.0  MASCULINO   \n",
              "2386          ARMA BLANCA         A PIE         A PIE  42.0  MASCULINO   \n",
              "138           ARMA BLANCA         A PIE         A PIE  22.0  MASCULINO   \n",
              "\n",
              "      ESTADO CIVIL       CLASE EMPLEADO     PROFESION ESCOLARIDAD PAIS NACE  \\\n",
              "4041   UNION LIBRE           AGRICULTOR  NO REPORTADO    PRIMARIA  COLOMBIA   \n",
              "3810       SOLTERO        INDEPENDIENTE  NO REPORTADO  SECUNDARIA  COLOMBIA   \n",
              "693        SOLTERO           AGRICULTOR  NO REPORTADO    PRIMARIA  COLOMBIA   \n",
              "10796      SOLTERO  EMPLEADO PARTICULAR  NO REPORTADO  SECUNDARIA  COLOMBIA   \n",
              "2386       SOLTERO        INDEPENDIENTE  NO REPORTADO    PRIMARIA  COLOMBIA   \n",
              "138        SOLTERO    EMPLEADO EJERCITO  NO REPORTADO  SECUNDARIA  COLOMBIA   \n",
              "\n",
              "       CODIGO DANE  AÑO DE NACIMIENTO  CÉDULA                      CORREO  \n",
              "4041    19256000.0             1970.0  10-048        aitufn1227@gmail.com  \n",
              "3810     5656000.0             1990.0  10-048  ibbcpu2509@unidatos.edu.co  \n",
              "693      5642000.0               57.0  10-079  unhoqj1172@unidatos.edu.co  \n",
              "10796   76001000.0             1994.0  10-079  iknnoj8430@unidatos.edu.co  \n",
              "2386    50287000.0             1973.0  10-255  afompq7113@unidatos.edu.co  \n",
              "138     19760000.0             1993.0  10-255  cobgqs8819@unidatos.edu.co  "
            ],
            "text/html": [
              "\n",
              "  <div id=\"df-f28e7749-cb89-415d-adae-cf4082d19842\">\n",
              "    <div class=\"colab-df-container\">\n",
              "      <div>\n",
              "<style scoped>\n",
              "    .dataframe tbody tr th:only-of-type {\n",
              "        vertical-align: middle;\n",
              "    }\n",
              "\n",
              "    .dataframe tbody tr th {\n",
              "        vertical-align: top;\n",
              "    }\n",
              "\n",
              "    .dataframe thead th {\n",
              "        text-align: right;\n",
              "    }\n",
              "</style>\n",
              "<table border=\"1\" class=\"dataframe\">\n",
              "  <thead>\n",
              "    <tr style=\"text-align: right;\">\n",
              "      <th></th>\n",
              "      <th>FECHA</th>\n",
              "      <th>DEPARTAMENTO</th>\n",
              "      <th>MUNICIPIO</th>\n",
              "      <th>DIA</th>\n",
              "      <th>BARRIO</th>\n",
              "      <th>ZONA</th>\n",
              "      <th>CLASE DE SITIO</th>\n",
              "      <th>ARMA O MEDIO</th>\n",
              "      <th>MOVIL VICTIMA</th>\n",
              "      <th>MOVIL AGRESOR</th>\n",
              "      <th>EDAD</th>\n",
              "      <th>GENERO</th>\n",
              "      <th>ESTADO CIVIL</th>\n",
              "      <th>CLASE EMPLEADO</th>\n",
              "      <th>PROFESION</th>\n",
              "      <th>ESCOLARIDAD</th>\n",
              "      <th>PAIS NACE</th>\n",
              "      <th>CODIGO DANE</th>\n",
              "      <th>AÑO DE NACIMIENTO</th>\n",
              "      <th>CÉDULA</th>\n",
              "      <th>CORREO</th>\n",
              "    </tr>\n",
              "  </thead>\n",
              "  <tbody>\n",
              "    <tr>\n",
              "      <th>4041</th>\n",
              "      <td>2021-05-03 23:30:00</td>\n",
              "      <td>CAUCA</td>\n",
              "      <td>EL TAMBO</td>\n",
              "      <td>Domingo</td>\n",
              "      <td>LA VICTORIA</td>\n",
              "      <td>RURAL</td>\n",
              "      <td>BARES, CANTINAS Y SIMILARES</td>\n",
              "      <td>ARMA DE FUEGO</td>\n",
              "      <td>A PIE</td>\n",
              "      <td>A PIE</td>\n",
              "      <td>45.0</td>\n",
              "      <td>MASCULINO</td>\n",
              "      <td>UNION LIBRE</td>\n",
              "      <td>AGRICULTOR</td>\n",
              "      <td>NO REPORTADO</td>\n",
              "      <td>PRIMARIA</td>\n",
              "      <td>COLOMBIA</td>\n",
              "      <td>19256000.0</td>\n",
              "      <td>1970.0</td>\n",
              "      <td>10-048</td>\n",
              "      <td>aitufn1227@gmail.com</td>\n",
              "    </tr>\n",
              "    <tr>\n",
              "      <th>3810</th>\n",
              "      <td>2021-04-26 03:00:00</td>\n",
              "      <td>ANTIOQUIA</td>\n",
              "      <td>SAN JERÓNIMO</td>\n",
              "      <td>Domingo</td>\n",
              "      <td>LA PLAYA</td>\n",
              "      <td>URBANA</td>\n",
              "      <td>HOTELES, RESIDENCIAS, Y SIMILARES.</td>\n",
              "      <td>CUERDA/SOGA/CADENA</td>\n",
              "      <td>A PIE</td>\n",
              "      <td>A PIE</td>\n",
              "      <td>25.0</td>\n",
              "      <td>MASCULINO</td>\n",
              "      <td>SOLTERO</td>\n",
              "      <td>INDEPENDIENTE</td>\n",
              "      <td>NO REPORTADO</td>\n",
              "      <td>SECUNDARIA</td>\n",
              "      <td>COLOMBIA</td>\n",
              "      <td>5656000.0</td>\n",
              "      <td>1990.0</td>\n",
              "      <td>10-048</td>\n",
              "      <td>ibbcpu2509@unidatos.edu.co</td>\n",
              "    </tr>\n",
              "    <tr>\n",
              "      <th>693</th>\n",
              "      <td>2021-01-19 05:30:00</td>\n",
              "      <td>ANTIOQUIA</td>\n",
              "      <td>SALGAR</td>\n",
              "      <td>Lunes</td>\n",
              "      <td>LA HABANA</td>\n",
              "      <td>URBANA</td>\n",
              "      <td>VIAS PUBLICAS</td>\n",
              "      <td>ARMA DE FUEGO</td>\n",
              "      <td>A PIE</td>\n",
              "      <td>A PIE</td>\n",
              "      <td>58.0</td>\n",
              "      <td>MASCULINO</td>\n",
              "      <td>SOLTERO</td>\n",
              "      <td>AGRICULTOR</td>\n",
              "      <td>NO REPORTADO</td>\n",
              "      <td>PRIMARIA</td>\n",
              "      <td>COLOMBIA</td>\n",
              "      <td>5642000.0</td>\n",
              "      <td>57.0</td>\n",
              "      <td>10-079</td>\n",
              "      <td>unhoqj1172@unidatos.edu.co</td>\n",
              "    </tr>\n",
              "    <tr>\n",
              "      <th>10796</th>\n",
              "      <td>2021-11-20 03:00:00</td>\n",
              "      <td>VALLE</td>\n",
              "      <td>CALI (CT)</td>\n",
              "      <td>Viernes</td>\n",
              "      <td>POTRERO GRANDE E21</td>\n",
              "      <td>URBANA</td>\n",
              "      <td>VIAS PUBLICAS</td>\n",
              "      <td>ARMA DE FUEGO</td>\n",
              "      <td>A PIE</td>\n",
              "      <td>A PIE</td>\n",
              "      <td>21.0</td>\n",
              "      <td>MASCULINO</td>\n",
              "      <td>SOLTERO</td>\n",
              "      <td>EMPLEADO PARTICULAR</td>\n",
              "      <td>NO REPORTADO</td>\n",
              "      <td>SECUNDARIA</td>\n",
              "      <td>COLOMBIA</td>\n",
              "      <td>76001000.0</td>\n",
              "      <td>1994.0</td>\n",
              "      <td>10-079</td>\n",
              "      <td>iknnoj8430@unidatos.edu.co</td>\n",
              "    </tr>\n",
              "    <tr>\n",
              "      <th>2386</th>\n",
              "      <td>2021-03-14 02:00:00</td>\n",
              "      <td>META</td>\n",
              "      <td>FUENTE DE ORO</td>\n",
              "      <td>Sábado</td>\n",
              "      <td>VEREDA PUERTO NUEVO</td>\n",
              "      <td>RURAL</td>\n",
              "      <td>BARES, CANTINAS Y SIMILARES</td>\n",
              "      <td>ARMA BLANCA</td>\n",
              "      <td>A PIE</td>\n",
              "      <td>A PIE</td>\n",
              "      <td>42.0</td>\n",
              "      <td>MASCULINO</td>\n",
              "      <td>SOLTERO</td>\n",
              "      <td>INDEPENDIENTE</td>\n",
              "      <td>NO REPORTADO</td>\n",
              "      <td>PRIMARIA</td>\n",
              "      <td>COLOMBIA</td>\n",
              "      <td>50287000.0</td>\n",
              "      <td>1973.0</td>\n",
              "      <td>10-255</td>\n",
              "      <td>afompq7113@unidatos.edu.co</td>\n",
              "    </tr>\n",
              "    <tr>\n",
              "      <th>138</th>\n",
              "      <td>2021-01-02 06:20:00</td>\n",
              "      <td>CAUCA</td>\n",
              "      <td>SOTARA</td>\n",
              "      <td>Viernes</td>\n",
              "      <td>CENTRO</td>\n",
              "      <td>RURAL</td>\n",
              "      <td>VIAS PUBLICAS</td>\n",
              "      <td>ARMA BLANCA</td>\n",
              "      <td>A PIE</td>\n",
              "      <td>A PIE</td>\n",
              "      <td>22.0</td>\n",
              "      <td>MASCULINO</td>\n",
              "      <td>SOLTERO</td>\n",
              "      <td>EMPLEADO EJERCITO</td>\n",
              "      <td>NO REPORTADO</td>\n",
              "      <td>SECUNDARIA</td>\n",
              "      <td>COLOMBIA</td>\n",
              "      <td>19760000.0</td>\n",
              "      <td>1993.0</td>\n",
              "      <td>10-255</td>\n",
              "      <td>cobgqs8819@unidatos.edu.co</td>\n",
              "    </tr>\n",
              "  </tbody>\n",
              "</table>\n",
              "</div>\n",
              "      <button class=\"colab-df-convert\" onclick=\"convertToInteractive('df-f28e7749-cb89-415d-adae-cf4082d19842')\"\n",
              "              title=\"Convert this dataframe to an interactive table.\"\n",
              "              style=\"display:none;\">\n",
              "        \n",
              "  <svg xmlns=\"http://www.w3.org/2000/svg\" height=\"24px\"viewBox=\"0 0 24 24\"\n",
              "       width=\"24px\">\n",
              "    <path d=\"M0 0h24v24H0V0z\" fill=\"none\"/>\n",
              "    <path d=\"M18.56 5.44l.94 2.06.94-2.06 2.06-.94-2.06-.94-.94-2.06-.94 2.06-2.06.94zm-11 1L8.5 8.5l.94-2.06 2.06-.94-2.06-.94L8.5 2.5l-.94 2.06-2.06.94zm10 10l.94 2.06.94-2.06 2.06-.94-2.06-.94-.94-2.06-.94 2.06-2.06.94z\"/><path d=\"M17.41 7.96l-1.37-1.37c-.4-.4-.92-.59-1.43-.59-.52 0-1.04.2-1.43.59L10.3 9.45l-7.72 7.72c-.78.78-.78 2.05 0 2.83L4 21.41c.39.39.9.59 1.41.59.51 0 1.02-.2 1.41-.59l7.78-7.78 2.81-2.81c.8-.78.8-2.07 0-2.86zM5.41 20L4 18.59l7.72-7.72 1.47 1.35L5.41 20z\"/>\n",
              "  </svg>\n",
              "      </button>\n",
              "      \n",
              "  <style>\n",
              "    .colab-df-container {\n",
              "      display:flex;\n",
              "      flex-wrap:wrap;\n",
              "      gap: 12px;\n",
              "    }\n",
              "\n",
              "    .colab-df-convert {\n",
              "      background-color: #E8F0FE;\n",
              "      border: none;\n",
              "      border-radius: 50%;\n",
              "      cursor: pointer;\n",
              "      display: none;\n",
              "      fill: #1967D2;\n",
              "      height: 32px;\n",
              "      padding: 0 0 0 0;\n",
              "      width: 32px;\n",
              "    }\n",
              "\n",
              "    .colab-df-convert:hover {\n",
              "      background-color: #E2EBFA;\n",
              "      box-shadow: 0px 1px 2px rgba(60, 64, 67, 0.3), 0px 1px 3px 1px rgba(60, 64, 67, 0.15);\n",
              "      fill: #174EA6;\n",
              "    }\n",
              "\n",
              "    [theme=dark] .colab-df-convert {\n",
              "      background-color: #3B4455;\n",
              "      fill: #D2E3FC;\n",
              "    }\n",
              "\n",
              "    [theme=dark] .colab-df-convert:hover {\n",
              "      background-color: #434B5C;\n",
              "      box-shadow: 0px 1px 3px 1px rgba(0, 0, 0, 0.15);\n",
              "      filter: drop-shadow(0px 1px 2px rgba(0, 0, 0, 0.3));\n",
              "      fill: #FFFFFF;\n",
              "    }\n",
              "  </style>\n",
              "\n",
              "      <script>\n",
              "        const buttonEl =\n",
              "          document.querySelector('#df-f28e7749-cb89-415d-adae-cf4082d19842 button.colab-df-convert');\n",
              "        buttonEl.style.display =\n",
              "          google.colab.kernel.accessAllowed ? 'block' : 'none';\n",
              "\n",
              "        async function convertToInteractive(key) {\n",
              "          const element = document.querySelector('#df-f28e7749-cb89-415d-adae-cf4082d19842');\n",
              "          const dataTable =\n",
              "            await google.colab.kernel.invokeFunction('convertToInteractive',\n",
              "                                                     [key], {});\n",
              "          if (!dataTable) return;\n",
              "\n",
              "          const docLinkHtml = 'Like what you see? Visit the ' +\n",
              "            '<a target=\"_blank\" href=https://colab.research.google.com/notebooks/data_table.ipynb>data table notebook</a>'\n",
              "            + ' to learn more about interactive tables.';\n",
              "          element.innerHTML = '';\n",
              "          dataTable['output_type'] = 'display_data';\n",
              "          await google.colab.output.renderOutput(dataTable, element);\n",
              "          const docLink = document.createElement('div');\n",
              "          docLink.innerHTML = docLinkHtml;\n",
              "          element.appendChild(docLink);\n",
              "        }\n",
              "      </script>\n",
              "    </div>\n",
              "  </div>\n",
              "  "
            ]
          },
          "metadata": {},
          "execution_count": 27
        }
      ],
      "source": [
        "# Showing some examples\n",
        "duplicates_by_cedula.sort_values(\"CÉDULA\", ascending = True).head(6)"
      ]
    },
    {
      "cell_type": "markdown",
      "metadata": {
        "id": "nkdwa_HWwzTa"
      },
      "source": [
        "<span style=\"color:red\">TODO: Delete records with \"CÉDULA\" duplicated</span>\n",
        "\n",
        "<span style=\"color:red\">Hint: You can use drop_duplicates() pandas function.</span>"
      ]
    },
    {
      "cell_type": "code",
      "execution_count": 28,
      "metadata": {
        "id": "_jhIpxanwzTa",
        "colab": {
          "base_uri": "https://localhost:8080/"
        },
        "outputId": "0b0a89f0-2593-4788-d15a-6af8b3da0a72"
      },
      "outputs": [
        {
          "output_type": "execute_result",
          "data": {
            "text/plain": [
              "(0, 21)"
            ]
          },
          "metadata": {},
          "execution_count": 28
        }
      ],
      "source": [
        "#Elimininar los registros con cédula duplicada:\n",
        "homicides_df=homicides_df.drop_duplicates(subset=['CÉDULA'])\n",
        "# Detecting duplicates by \"CÉDULA\" column\n",
        "duplicates_by_cedula = homicides_df.loc[homicides_df[\"CÉDULA\"].duplicated(keep = False)]\n",
        "# Confirmar que ya no hay registros de cédulas duplicas\n",
        "duplicates_by_cedula.shape"
      ]
    },
    {
      "cell_type": "code",
      "execution_count": 29,
      "metadata": {
        "id": "nOB_vGhLwzTa"
      },
      "outputs": [],
      "source": [
        "# Using regular expressions for validating if \"CÉDULA\" values match the pattern XX-XXX\n",
        "cedula_malformed = homicides_df.loc[homicides_df[\"CÉDULA\"].apply(lambda x: (re.match(\"\\d{2}-\\d{3}\", x) is None))]"
      ]
    },
    {
      "cell_type": "code",
      "execution_count": 30,
      "metadata": {
        "id": "NYEZRg1VwzTa",
        "colab": {
          "base_uri": "https://localhost:8080/"
        },
        "outputId": "127eaf57-0ee5-4886-b504-ddc09b1db656"
      },
      "outputs": [
        {
          "output_type": "execute_result",
          "data": {
            "text/plain": [
              "(28, 21)"
            ]
          },
          "metadata": {},
          "execution_count": 30
        }
      ],
      "source": [
        "cedula_malformed.shape"
      ]
    },
    {
      "cell_type": "code",
      "execution_count": 31,
      "metadata": {
        "id": "njdfdZ1BwzTa",
        "colab": {
          "base_uri": "https://localhost:8080/",
          "height": 461
        },
        "outputId": "70e81008-8ff5-4247-ebe4-fe7eb6a677ee"
      },
      "outputs": [
        {
          "output_type": "execute_result",
          "data": {
            "text/plain": [
              "                   FECHA DEPARTAMENTO          MUNICIPIO      DIA  \\\n",
              "172  2021-01-03 11:00:00         META            MESETAS   Sábado   \n",
              "1114 2021-02-01 12:30:00    ATLÁNTICO  BARRANQUILLA (CT)  Domingo   \n",
              "2119 2021-03-06 15:30:00        VALLE          CALI (CT)  Viernes   \n",
              "3309 2021-04-11 10:30:00      CAQUETÁ     FLORENCIA (CT)   Sávado   \n",
              "3409 2021-04-13 23:20:00      CÓRDOBA            SAHAGÚN    Lunes   \n",
              "\n",
              "                            BARRIO    ZONA         CLASE DE SITIO  \\\n",
              "172                VEREDA EL CAFRE   RURAL         ZONA SELVÁTICA   \n",
              "1114                        LA LUZ  URBANA          VIAS PUBLICAS   \n",
              "2119           QUINTAS DEL SOL E14  URBANA  DENTRO DE LA VIVIENDA   \n",
              "3309                   VIA MORELIA   RURAL               CARCELES   \n",
              "3409  CORREGIMIENTO DE BAJO GRANDE  URBANA               BILLARES   \n",
              "\n",
              "          ARMA O MEDIO MOVIL VICTIMA MOVIL AGRESOR  EDAD     GENERO  \\\n",
              "172   MINA ANTIPERSONA         A PIE         A PIE  24.0  MASCULINO   \n",
              "1114     ARMA DE FUEGO         A PIE         A PIE  29.0  MASCULINO   \n",
              "2119       ARMA BLANCA         A PIE         A PIE  20.0   FEMENINO   \n",
              "3309         CORTANTES         A PIE         A PIE  23.0  MASCULINO   \n",
              "3409      CONTUNDENTES         A PIE         A PIE  49.0  MASCULINO   \n",
              "\n",
              "     ESTADO CIVIL       CLASE EMPLEADO     PROFESION ESCOLARIDAD PAIS NACE  \\\n",
              "172       SOLTERO    EMPLEADO EJERCITO  NO REPORTADO  SECUNDARIA  COLOMBIA   \n",
              "1114      SOLTERO        INDEPENDIENTE  NO REPORTADO    PRIMARIA  COLOMBIA   \n",
              "2119  UNION LIBRE  EMPLEADO PARTICULAR  NO REPORTADO  SECUNDARIA  COLOMBIA   \n",
              "3309      SOLTERO        INDEPENDIENTE  NO REPORTADO    PRIMARIA  COLOMBIA   \n",
              "3409      SOLTERO        INDEPENDIENTE  NO REPORTADO  SECUNDARIA  COLOMBIA   \n",
              "\n",
              "      CODIGO DANE  AÑO DE NACIMIENTO  CÉDULA                      CORREO  \n",
              "172    50330000.0             1991.0  680-21        oohghd8899@gmail.com  \n",
              "1114    8001000.0             1986.0  140-17  correo5853@colombia.gov.co  \n",
              "2119   76001000.0             1995.0  975-31  ohbqrk3631@unidatos.edu.co  \n",
              "3309   18001000.0             1992.0  348-66  pdkqur8407@unidatos.edu.co  \n",
              "3409   23660000.0             1966.0  496-18  fdbbeo6751@unidatos.edu.co  "
            ],
            "text/html": [
              "\n",
              "  <div id=\"df-e17040c4-9ab4-4b76-a010-82ecca938dac\">\n",
              "    <div class=\"colab-df-container\">\n",
              "      <div>\n",
              "<style scoped>\n",
              "    .dataframe tbody tr th:only-of-type {\n",
              "        vertical-align: middle;\n",
              "    }\n",
              "\n",
              "    .dataframe tbody tr th {\n",
              "        vertical-align: top;\n",
              "    }\n",
              "\n",
              "    .dataframe thead th {\n",
              "        text-align: right;\n",
              "    }\n",
              "</style>\n",
              "<table border=\"1\" class=\"dataframe\">\n",
              "  <thead>\n",
              "    <tr style=\"text-align: right;\">\n",
              "      <th></th>\n",
              "      <th>FECHA</th>\n",
              "      <th>DEPARTAMENTO</th>\n",
              "      <th>MUNICIPIO</th>\n",
              "      <th>DIA</th>\n",
              "      <th>BARRIO</th>\n",
              "      <th>ZONA</th>\n",
              "      <th>CLASE DE SITIO</th>\n",
              "      <th>ARMA O MEDIO</th>\n",
              "      <th>MOVIL VICTIMA</th>\n",
              "      <th>MOVIL AGRESOR</th>\n",
              "      <th>EDAD</th>\n",
              "      <th>GENERO</th>\n",
              "      <th>ESTADO CIVIL</th>\n",
              "      <th>CLASE EMPLEADO</th>\n",
              "      <th>PROFESION</th>\n",
              "      <th>ESCOLARIDAD</th>\n",
              "      <th>PAIS NACE</th>\n",
              "      <th>CODIGO DANE</th>\n",
              "      <th>AÑO DE NACIMIENTO</th>\n",
              "      <th>CÉDULA</th>\n",
              "      <th>CORREO</th>\n",
              "    </tr>\n",
              "  </thead>\n",
              "  <tbody>\n",
              "    <tr>\n",
              "      <th>172</th>\n",
              "      <td>2021-01-03 11:00:00</td>\n",
              "      <td>META</td>\n",
              "      <td>MESETAS</td>\n",
              "      <td>Sábado</td>\n",
              "      <td>VEREDA EL CAFRE</td>\n",
              "      <td>RURAL</td>\n",
              "      <td>ZONA SELVÁTICA</td>\n",
              "      <td>MINA ANTIPERSONA</td>\n",
              "      <td>A PIE</td>\n",
              "      <td>A PIE</td>\n",
              "      <td>24.0</td>\n",
              "      <td>MASCULINO</td>\n",
              "      <td>SOLTERO</td>\n",
              "      <td>EMPLEADO EJERCITO</td>\n",
              "      <td>NO REPORTADO</td>\n",
              "      <td>SECUNDARIA</td>\n",
              "      <td>COLOMBIA</td>\n",
              "      <td>50330000.0</td>\n",
              "      <td>1991.0</td>\n",
              "      <td>680-21</td>\n",
              "      <td>oohghd8899@gmail.com</td>\n",
              "    </tr>\n",
              "    <tr>\n",
              "      <th>1114</th>\n",
              "      <td>2021-02-01 12:30:00</td>\n",
              "      <td>ATLÁNTICO</td>\n",
              "      <td>BARRANQUILLA (CT)</td>\n",
              "      <td>Domingo</td>\n",
              "      <td>LA LUZ</td>\n",
              "      <td>URBANA</td>\n",
              "      <td>VIAS PUBLICAS</td>\n",
              "      <td>ARMA DE FUEGO</td>\n",
              "      <td>A PIE</td>\n",
              "      <td>A PIE</td>\n",
              "      <td>29.0</td>\n",
              "      <td>MASCULINO</td>\n",
              "      <td>SOLTERO</td>\n",
              "      <td>INDEPENDIENTE</td>\n",
              "      <td>NO REPORTADO</td>\n",
              "      <td>PRIMARIA</td>\n",
              "      <td>COLOMBIA</td>\n",
              "      <td>8001000.0</td>\n",
              "      <td>1986.0</td>\n",
              "      <td>140-17</td>\n",
              "      <td>correo5853@colombia.gov.co</td>\n",
              "    </tr>\n",
              "    <tr>\n",
              "      <th>2119</th>\n",
              "      <td>2021-03-06 15:30:00</td>\n",
              "      <td>VALLE</td>\n",
              "      <td>CALI (CT)</td>\n",
              "      <td>Viernes</td>\n",
              "      <td>QUINTAS DEL SOL E14</td>\n",
              "      <td>URBANA</td>\n",
              "      <td>DENTRO DE LA VIVIENDA</td>\n",
              "      <td>ARMA BLANCA</td>\n",
              "      <td>A PIE</td>\n",
              "      <td>A PIE</td>\n",
              "      <td>20.0</td>\n",
              "      <td>FEMENINO</td>\n",
              "      <td>UNION LIBRE</td>\n",
              "      <td>EMPLEADO PARTICULAR</td>\n",
              "      <td>NO REPORTADO</td>\n",
              "      <td>SECUNDARIA</td>\n",
              "      <td>COLOMBIA</td>\n",
              "      <td>76001000.0</td>\n",
              "      <td>1995.0</td>\n",
              "      <td>975-31</td>\n",
              "      <td>ohbqrk3631@unidatos.edu.co</td>\n",
              "    </tr>\n",
              "    <tr>\n",
              "      <th>3309</th>\n",
              "      <td>2021-04-11 10:30:00</td>\n",
              "      <td>CAQUETÁ</td>\n",
              "      <td>FLORENCIA (CT)</td>\n",
              "      <td>Sávado</td>\n",
              "      <td>VIA MORELIA</td>\n",
              "      <td>RURAL</td>\n",
              "      <td>CARCELES</td>\n",
              "      <td>CORTANTES</td>\n",
              "      <td>A PIE</td>\n",
              "      <td>A PIE</td>\n",
              "      <td>23.0</td>\n",
              "      <td>MASCULINO</td>\n",
              "      <td>SOLTERO</td>\n",
              "      <td>INDEPENDIENTE</td>\n",
              "      <td>NO REPORTADO</td>\n",
              "      <td>PRIMARIA</td>\n",
              "      <td>COLOMBIA</td>\n",
              "      <td>18001000.0</td>\n",
              "      <td>1992.0</td>\n",
              "      <td>348-66</td>\n",
              "      <td>pdkqur8407@unidatos.edu.co</td>\n",
              "    </tr>\n",
              "    <tr>\n",
              "      <th>3409</th>\n",
              "      <td>2021-04-13 23:20:00</td>\n",
              "      <td>CÓRDOBA</td>\n",
              "      <td>SAHAGÚN</td>\n",
              "      <td>Lunes</td>\n",
              "      <td>CORREGIMIENTO DE BAJO GRANDE</td>\n",
              "      <td>URBANA</td>\n",
              "      <td>BILLARES</td>\n",
              "      <td>CONTUNDENTES</td>\n",
              "      <td>A PIE</td>\n",
              "      <td>A PIE</td>\n",
              "      <td>49.0</td>\n",
              "      <td>MASCULINO</td>\n",
              "      <td>SOLTERO</td>\n",
              "      <td>INDEPENDIENTE</td>\n",
              "      <td>NO REPORTADO</td>\n",
              "      <td>SECUNDARIA</td>\n",
              "      <td>COLOMBIA</td>\n",
              "      <td>23660000.0</td>\n",
              "      <td>1966.0</td>\n",
              "      <td>496-18</td>\n",
              "      <td>fdbbeo6751@unidatos.edu.co</td>\n",
              "    </tr>\n",
              "  </tbody>\n",
              "</table>\n",
              "</div>\n",
              "      <button class=\"colab-df-convert\" onclick=\"convertToInteractive('df-e17040c4-9ab4-4b76-a010-82ecca938dac')\"\n",
              "              title=\"Convert this dataframe to an interactive table.\"\n",
              "              style=\"display:none;\">\n",
              "        \n",
              "  <svg xmlns=\"http://www.w3.org/2000/svg\" height=\"24px\"viewBox=\"0 0 24 24\"\n",
              "       width=\"24px\">\n",
              "    <path d=\"M0 0h24v24H0V0z\" fill=\"none\"/>\n",
              "    <path d=\"M18.56 5.44l.94 2.06.94-2.06 2.06-.94-2.06-.94-.94-2.06-.94 2.06-2.06.94zm-11 1L8.5 8.5l.94-2.06 2.06-.94-2.06-.94L8.5 2.5l-.94 2.06-2.06.94zm10 10l.94 2.06.94-2.06 2.06-.94-2.06-.94-.94-2.06-.94 2.06-2.06.94z\"/><path d=\"M17.41 7.96l-1.37-1.37c-.4-.4-.92-.59-1.43-.59-.52 0-1.04.2-1.43.59L10.3 9.45l-7.72 7.72c-.78.78-.78 2.05 0 2.83L4 21.41c.39.39.9.59 1.41.59.51 0 1.02-.2 1.41-.59l7.78-7.78 2.81-2.81c.8-.78.8-2.07 0-2.86zM5.41 20L4 18.59l7.72-7.72 1.47 1.35L5.41 20z\"/>\n",
              "  </svg>\n",
              "      </button>\n",
              "      \n",
              "  <style>\n",
              "    .colab-df-container {\n",
              "      display:flex;\n",
              "      flex-wrap:wrap;\n",
              "      gap: 12px;\n",
              "    }\n",
              "\n",
              "    .colab-df-convert {\n",
              "      background-color: #E8F0FE;\n",
              "      border: none;\n",
              "      border-radius: 50%;\n",
              "      cursor: pointer;\n",
              "      display: none;\n",
              "      fill: #1967D2;\n",
              "      height: 32px;\n",
              "      padding: 0 0 0 0;\n",
              "      width: 32px;\n",
              "    }\n",
              "\n",
              "    .colab-df-convert:hover {\n",
              "      background-color: #E2EBFA;\n",
              "      box-shadow: 0px 1px 2px rgba(60, 64, 67, 0.3), 0px 1px 3px 1px rgba(60, 64, 67, 0.15);\n",
              "      fill: #174EA6;\n",
              "    }\n",
              "\n",
              "    [theme=dark] .colab-df-convert {\n",
              "      background-color: #3B4455;\n",
              "      fill: #D2E3FC;\n",
              "    }\n",
              "\n",
              "    [theme=dark] .colab-df-convert:hover {\n",
              "      background-color: #434B5C;\n",
              "      box-shadow: 0px 1px 3px 1px rgba(0, 0, 0, 0.15);\n",
              "      filter: drop-shadow(0px 1px 2px rgba(0, 0, 0, 0.3));\n",
              "      fill: #FFFFFF;\n",
              "    }\n",
              "  </style>\n",
              "\n",
              "      <script>\n",
              "        const buttonEl =\n",
              "          document.querySelector('#df-e17040c4-9ab4-4b76-a010-82ecca938dac button.colab-df-convert');\n",
              "        buttonEl.style.display =\n",
              "          google.colab.kernel.accessAllowed ? 'block' : 'none';\n",
              "\n",
              "        async function convertToInteractive(key) {\n",
              "          const element = document.querySelector('#df-e17040c4-9ab4-4b76-a010-82ecca938dac');\n",
              "          const dataTable =\n",
              "            await google.colab.kernel.invokeFunction('convertToInteractive',\n",
              "                                                     [key], {});\n",
              "          if (!dataTable) return;\n",
              "\n",
              "          const docLinkHtml = 'Like what you see? Visit the ' +\n",
              "            '<a target=\"_blank\" href=https://colab.research.google.com/notebooks/data_table.ipynb>data table notebook</a>'\n",
              "            + ' to learn more about interactive tables.';\n",
              "          element.innerHTML = '';\n",
              "          dataTable['output_type'] = 'display_data';\n",
              "          await google.colab.output.renderOutput(dataTable, element);\n",
              "          const docLink = document.createElement('div');\n",
              "          docLink.innerHTML = docLinkHtml;\n",
              "          element.appendChild(docLink);\n",
              "        }\n",
              "      </script>\n",
              "    </div>\n",
              "  </div>\n",
              "  "
            ]
          },
          "metadata": {},
          "execution_count": 31
        }
      ],
      "source": [
        "cedula_malformed.head()"
      ]
    },
    {
      "cell_type": "markdown",
      "metadata": {
        "id": "a9gC5ciYwzTa"
      },
      "source": [
        "<span style=\"color:red\">TODO: Fix the malformed \"CÉDULA\" values.</span>"
      ]
    },
    {
      "cell_type": "code",
      "execution_count": 32,
      "metadata": {
        "id": "UfiBsekDwzTa",
        "colab": {
          "base_uri": "https://localhost:8080/"
        },
        "outputId": "934186b3-4d45-4bcf-d4bc-ceea76b0c0ef"
      },
      "outputs": [
        {
          "output_type": "stream",
          "name": "stderr",
          "text": [
            "/usr/local/lib/python3.7/dist-packages/ipykernel_launcher.py:1: SettingWithCopyWarning: \n",
            "A value is trying to be set on a copy of a slice from a DataFrame.\n",
            "Try using .loc[row_indexer,col_indexer] = value instead\n",
            "\n",
            "See the caveats in the documentation: https://pandas.pydata.org/pandas-docs/stable/user_guide/indexing.html#returning-a-view-versus-a-copy\n",
            "  \"\"\"Entry point for launching an IPython kernel.\n",
            "/usr/local/lib/python3.7/dist-packages/ipykernel_launcher.py:2: SettingWithCopyWarning: \n",
            "A value is trying to be set on a copy of a slice from a DataFrame.\n",
            "Try using .loc[row_indexer,col_indexer] = value instead\n",
            "\n",
            "See the caveats in the documentation: https://pandas.pydata.org/pandas-docs/stable/user_guide/indexing.html#returning-a-view-versus-a-copy\n",
            "  \n"
          ]
        }
      ],
      "source": [
        "cedula_malformed['CÉDULA'] = cedula_malformed['CÉDULA'].str.replace(r'-','')\n",
        "cedula_malformed[\"CÉDULA\"] = cedula_malformed[\"CÉDULA\"].apply(lambda x: x[:2] + '-' + x[2:])\n",
        "#cedula_malformed.head()"
      ]
    },
    {
      "cell_type": "code",
      "source": [
        "cedula_malformed['CÉDULA']"
      ],
      "metadata": {
        "colab": {
          "base_uri": "https://localhost:8080/"
        },
        "id": "RVeX5aYXX5iA",
        "outputId": "21675489-9a4a-411d-9bbf-17c00aa71633"
      },
      "execution_count": 33,
      "outputs": [
        {
          "output_type": "execute_result",
          "data": {
            "text/plain": [
              "172      68-021\n",
              "1114     14-017\n",
              "2119     97-531\n",
              "3309     34-866\n",
              "3409     49-618\n",
              "3588     18-803\n",
              "4565     92-874\n",
              "4587     27-345\n",
              "4971     55-963\n",
              "5372     63-185\n",
              "5532     98-100\n",
              "5834     31-949\n",
              "5849     47-307\n",
              "6315     89-381\n",
              "7885     85-455\n",
              "8094     60-436\n",
              "8183     35-223\n",
              "8223     58-651\n",
              "9033     57-014\n",
              "9751     51-841\n",
              "10205    42-472\n",
              "10625    85-267\n",
              "10689    40-311\n",
              "10959    50-205\n",
              "11020    52-937\n",
              "11740    86-483\n",
              "11957    85-604\n",
              "12206    12-861\n",
              "Name: CÉDULA, dtype: object"
            ]
          },
          "metadata": {},
          "execution_count": 33
        }
      ]
    },
    {
      "cell_type": "code",
      "source": [
        "homicides_df.shape"
      ],
      "metadata": {
        "colab": {
          "base_uri": "https://localhost:8080/"
        },
        "id": "olJdsKQg69uc",
        "outputId": "3b68063e-f454-4478-9db4-e02ec1c5e23a"
      },
      "execution_count": 34,
      "outputs": [
        {
          "output_type": "execute_result",
          "data": {
            "text/plain": [
              "(11563, 21)"
            ]
          },
          "metadata": {},
          "execution_count": 34
        }
      ]
    },
    {
      "cell_type": "code",
      "source": [
        "#eliminar registros con mala cedula:\n",
        "homicides_df = homicides_df.drop(homicides_df.loc[homicides_df[\"CÉDULA\"].apply(lambda x: (re.match(\"\\d{2}-\\d{3}\", x) is None))].index)"
      ],
      "metadata": {
        "id": "OF5fM_1HW1ZA"
      },
      "execution_count": 35,
      "outputs": []
    },
    {
      "cell_type": "code",
      "source": [
        "#agrego los datos corregidos que ya tengo en cedula_malformed\n",
        "homicides_df = pd.concat([homicides_df, cedula_malformed])"
      ],
      "metadata": {
        "id": "8W475wX-7HDi"
      },
      "execution_count": 36,
      "outputs": []
    },
    {
      "cell_type": "code",
      "source": [
        "#query para confirmar ya no hay cedulas mal:\n",
        "homicides_df.loc[homicides_df[\"CÉDULA\"].apply(lambda x: (re.match(\"\\d{2}-\\d{3}\", x) is None))]"
      ],
      "metadata": {
        "colab": {
          "base_uri": "https://localhost:8080/",
          "height": 128
        },
        "id": "qQxw5eQjEZeQ",
        "outputId": "4d283848-869e-430a-a8af-714784157a11"
      },
      "execution_count": 37,
      "outputs": [
        {
          "output_type": "execute_result",
          "data": {
            "text/plain": [
              "Empty DataFrame\n",
              "Columns: [FECHA, DEPARTAMENTO, MUNICIPIO, DIA, BARRIO, ZONA, CLASE DE SITIO, ARMA O MEDIO, MOVIL VICTIMA, MOVIL AGRESOR, EDAD, GENERO, ESTADO CIVIL, CLASE EMPLEADO, PROFESION, ESCOLARIDAD, PAIS NACE, CODIGO DANE, AÑO DE NACIMIENTO, CÉDULA, CORREO]\n",
              "Index: []"
            ],
            "text/html": [
              "\n",
              "  <div id=\"df-7ecabf1b-4b42-4b1f-92ec-242d172755af\">\n",
              "    <div class=\"colab-df-container\">\n",
              "      <div>\n",
              "<style scoped>\n",
              "    .dataframe tbody tr th:only-of-type {\n",
              "        vertical-align: middle;\n",
              "    }\n",
              "\n",
              "    .dataframe tbody tr th {\n",
              "        vertical-align: top;\n",
              "    }\n",
              "\n",
              "    .dataframe thead th {\n",
              "        text-align: right;\n",
              "    }\n",
              "</style>\n",
              "<table border=\"1\" class=\"dataframe\">\n",
              "  <thead>\n",
              "    <tr style=\"text-align: right;\">\n",
              "      <th></th>\n",
              "      <th>FECHA</th>\n",
              "      <th>DEPARTAMENTO</th>\n",
              "      <th>MUNICIPIO</th>\n",
              "      <th>DIA</th>\n",
              "      <th>BARRIO</th>\n",
              "      <th>ZONA</th>\n",
              "      <th>CLASE DE SITIO</th>\n",
              "      <th>ARMA O MEDIO</th>\n",
              "      <th>MOVIL VICTIMA</th>\n",
              "      <th>MOVIL AGRESOR</th>\n",
              "      <th>EDAD</th>\n",
              "      <th>GENERO</th>\n",
              "      <th>ESTADO CIVIL</th>\n",
              "      <th>CLASE EMPLEADO</th>\n",
              "      <th>PROFESION</th>\n",
              "      <th>ESCOLARIDAD</th>\n",
              "      <th>PAIS NACE</th>\n",
              "      <th>CODIGO DANE</th>\n",
              "      <th>AÑO DE NACIMIENTO</th>\n",
              "      <th>CÉDULA</th>\n",
              "      <th>CORREO</th>\n",
              "    </tr>\n",
              "  </thead>\n",
              "  <tbody>\n",
              "  </tbody>\n",
              "</table>\n",
              "</div>\n",
              "      <button class=\"colab-df-convert\" onclick=\"convertToInteractive('df-7ecabf1b-4b42-4b1f-92ec-242d172755af')\"\n",
              "              title=\"Convert this dataframe to an interactive table.\"\n",
              "              style=\"display:none;\">\n",
              "        \n",
              "  <svg xmlns=\"http://www.w3.org/2000/svg\" height=\"24px\"viewBox=\"0 0 24 24\"\n",
              "       width=\"24px\">\n",
              "    <path d=\"M0 0h24v24H0V0z\" fill=\"none\"/>\n",
              "    <path d=\"M18.56 5.44l.94 2.06.94-2.06 2.06-.94-2.06-.94-.94-2.06-.94 2.06-2.06.94zm-11 1L8.5 8.5l.94-2.06 2.06-.94-2.06-.94L8.5 2.5l-.94 2.06-2.06.94zm10 10l.94 2.06.94-2.06 2.06-.94-2.06-.94-.94-2.06-.94 2.06-2.06.94z\"/><path d=\"M17.41 7.96l-1.37-1.37c-.4-.4-.92-.59-1.43-.59-.52 0-1.04.2-1.43.59L10.3 9.45l-7.72 7.72c-.78.78-.78 2.05 0 2.83L4 21.41c.39.39.9.59 1.41.59.51 0 1.02-.2 1.41-.59l7.78-7.78 2.81-2.81c.8-.78.8-2.07 0-2.86zM5.41 20L4 18.59l7.72-7.72 1.47 1.35L5.41 20z\"/>\n",
              "  </svg>\n",
              "      </button>\n",
              "      \n",
              "  <style>\n",
              "    .colab-df-container {\n",
              "      display:flex;\n",
              "      flex-wrap:wrap;\n",
              "      gap: 12px;\n",
              "    }\n",
              "\n",
              "    .colab-df-convert {\n",
              "      background-color: #E8F0FE;\n",
              "      border: none;\n",
              "      border-radius: 50%;\n",
              "      cursor: pointer;\n",
              "      display: none;\n",
              "      fill: #1967D2;\n",
              "      height: 32px;\n",
              "      padding: 0 0 0 0;\n",
              "      width: 32px;\n",
              "    }\n",
              "\n",
              "    .colab-df-convert:hover {\n",
              "      background-color: #E2EBFA;\n",
              "      box-shadow: 0px 1px 2px rgba(60, 64, 67, 0.3), 0px 1px 3px 1px rgba(60, 64, 67, 0.15);\n",
              "      fill: #174EA6;\n",
              "    }\n",
              "\n",
              "    [theme=dark] .colab-df-convert {\n",
              "      background-color: #3B4455;\n",
              "      fill: #D2E3FC;\n",
              "    }\n",
              "\n",
              "    [theme=dark] .colab-df-convert:hover {\n",
              "      background-color: #434B5C;\n",
              "      box-shadow: 0px 1px 3px 1px rgba(0, 0, 0, 0.15);\n",
              "      filter: drop-shadow(0px 1px 2px rgba(0, 0, 0, 0.3));\n",
              "      fill: #FFFFFF;\n",
              "    }\n",
              "  </style>\n",
              "\n",
              "      <script>\n",
              "        const buttonEl =\n",
              "          document.querySelector('#df-7ecabf1b-4b42-4b1f-92ec-242d172755af button.colab-df-convert');\n",
              "        buttonEl.style.display =\n",
              "          google.colab.kernel.accessAllowed ? 'block' : 'none';\n",
              "\n",
              "        async function convertToInteractive(key) {\n",
              "          const element = document.querySelector('#df-7ecabf1b-4b42-4b1f-92ec-242d172755af');\n",
              "          const dataTable =\n",
              "            await google.colab.kernel.invokeFunction('convertToInteractive',\n",
              "                                                     [key], {});\n",
              "          if (!dataTable) return;\n",
              "\n",
              "          const docLinkHtml = 'Like what you see? Visit the ' +\n",
              "            '<a target=\"_blank\" href=https://colab.research.google.com/notebooks/data_table.ipynb>data table notebook</a>'\n",
              "            + ' to learn more about interactive tables.';\n",
              "          element.innerHTML = '';\n",
              "          dataTable['output_type'] = 'display_data';\n",
              "          await google.colab.output.renderOutput(dataTable, element);\n",
              "          const docLink = document.createElement('div');\n",
              "          docLink.innerHTML = docLinkHtml;\n",
              "          element.appendChild(docLink);\n",
              "        }\n",
              "      </script>\n",
              "    </div>\n",
              "  </div>\n",
              "  "
            ]
          },
          "metadata": {},
          "execution_count": 37
        }
      ]
    },
    {
      "cell_type": "markdown",
      "metadata": {
        "id": "oA-Ow8uswzTb"
      },
      "source": [
        "<span style=\"color:red\">TODO: Make something similar to check and fix the \"CORREO\" column (PATTERN: 4 digits before the @, only .edu.co and .com domains are allowed)</span>"
      ]
    },
    {
      "cell_type": "code",
      "source": [
        "email_wrong = homicides_df.loc[homicides_df[\"CORREO\"].apply(lambda x: (re.match(\"[a-zA-Z]+\\d{4}@.*(.edu.co|.com)$\", x) is None))]\n",
        "email_wrong[\"CORREO\"]\n"
      ],
      "metadata": {
        "colab": {
          "base_uri": "https://localhost:8080/"
        },
        "id": "UCwk6Xst7jdt",
        "outputId": "ef862db7-90a3-48f3-e20d-c592d0cba80c"
      },
      "execution_count": 38,
      "outputs": [
        {
          "output_type": "execute_result",
          "data": {
            "text/plain": [
              "28        correo975@unidatos.edu.co\n",
              "36       correo4714@colombia.gov.co\n",
              "47       correo8297@colombia.gov.co\n",
              "55       correo7285@colombia.gov.co\n",
              "60        correo870@unidatos.edu.co\n",
              "                    ...            \n",
              "12398     correo736@unidatos.edu.co\n",
              "1114     correo5853@colombia.gov.co\n",
              "5834      correo106@unidatos.edu.co\n",
              "9033      correo790@unidatos.edu.co\n",
              "10959     correo563@unidatos.edu.co\n",
              "Name: CORREO, Length: 2134, dtype: object"
            ]
          },
          "metadata": {},
          "execution_count": 38
        }
      ]
    },
    {
      "cell_type": "code",
      "source": [
        "def fix_correo(correo):\n",
        "  if not re.match(\"[a-zA-Z]+\\d{4}@.*(.edu.co|.com)$\", correo):\n",
        "    if not re.match(\".*(.edu.co|.com)$\", correo):\n",
        "      correo = re.sub(\"\\.[a-zA-z].+\", \".com\", correo)\n",
        "\n",
        "    if not re.match(\"[a-zA-Z]+\\d{4}@.*\", correo):\n",
        "      number = re.findall('(\\d+)\\@', correo)\n",
        "      if len(number[0]) < 4:\n",
        "        number4d = number[0].rjust(4, '0')\n",
        "        correo = re.sub(\"(\\d+)\", number4d, correo)\n",
        "  return correo"
      ],
      "metadata": {
        "id": "Jhi6nHGX9awR"
      },
      "execution_count": 94,
      "outputs": []
    },
    {
      "cell_type": "code",
      "source": [
        "#celda de prueba individual\n",
        "aux = fix_correo(\"hola4@colombia.gov.co\")\n",
        "aux"
      ],
      "metadata": {
        "colab": {
          "base_uri": "https://localhost:8080/",
          "height": 35
        },
        "id": "032_mCzXB14c",
        "outputId": "f01ba36c-ace8-4183-e2f0-da45a3fa0db7"
      },
      "execution_count": 95,
      "outputs": [
        {
          "output_type": "execute_result",
          "data": {
            "text/plain": [
              "'hola0004@colombia.com'"
            ],
            "application/vnd.google.colaboratory.intrinsic+json": {
              "type": "string"
            }
          },
          "metadata": {},
          "execution_count": 95
        }
      ]
    },
    {
      "cell_type": "code",
      "source": [
        "email_wrong['CORREO'] = email_wrong['CORREO'].apply(fix_correo)\n",
        "email_wrong['CORREO']"
      ],
      "metadata": {
        "colab": {
          "base_uri": "https://localhost:8080/"
        },
        "id": "m1V3Gzk8CFr4",
        "outputId": "637e9a2c-0a91-463a-f5bd-e3a0788b5f29"
      },
      "execution_count": 96,
      "outputs": [
        {
          "output_type": "stream",
          "name": "stderr",
          "text": [
            "/usr/local/lib/python3.7/dist-packages/ipykernel_launcher.py:1: SettingWithCopyWarning: \n",
            "A value is trying to be set on a copy of a slice from a DataFrame.\n",
            "Try using .loc[row_indexer,col_indexer] = value instead\n",
            "\n",
            "See the caveats in the documentation: https://pandas.pydata.org/pandas-docs/stable/user_guide/indexing.html#returning-a-view-versus-a-copy\n",
            "  \"\"\"Entry point for launching an IPython kernel.\n"
          ]
        },
        {
          "output_type": "execute_result",
          "data": {
            "text/plain": [
              "28       correo0975@unidatos.edu.co\n",
              "36          correo4714@colombia.com\n",
              "47          correo8297@colombia.com\n",
              "55          correo7285@colombia.com\n",
              "60       correo0870@unidatos.edu.co\n",
              "                    ...            \n",
              "12398    correo0736@unidatos.edu.co\n",
              "1114        correo5853@colombia.com\n",
              "5834     correo0106@unidatos.edu.co\n",
              "9033     correo0790@unidatos.edu.co\n",
              "10959    correo0563@unidatos.edu.co\n",
              "Name: CORREO, Length: 2134, dtype: object"
            ]
          },
          "metadata": {},
          "execution_count": 96
        }
      ]
    },
    {
      "cell_type": "code",
      "source": [
        "#corrigiendo el df de homicidios\n",
        "homicides_df['CORREO'] = homicides_df['CORREO'].apply(fix_correo)\n",
        "#comprobando con el filtro\n",
        "homicides_df.loc[homicides_df[\"CORREO\"].apply(lambda x: (re.match(\"[a-zA-Z]+\\d{4}@.*(.edu.co|.com)$\", x) is None))]"
      ],
      "metadata": {
        "colab": {
          "base_uri": "https://localhost:8080/",
          "height": 128
        },
        "id": "xSX2ofe3S6Vu",
        "outputId": "b283a7ef-fef0-4a4a-852f-6a44bff58a4f"
      },
      "execution_count": 107,
      "outputs": [
        {
          "output_type": "execute_result",
          "data": {
            "text/plain": [
              "Empty DataFrame\n",
              "Columns: [FECHA, DEPARTAMENTO, MUNICIPIO, DIA, BARRIO, ZONA, CLASE DE SITIO, ARMA O MEDIO, MOVIL VICTIMA, MOVIL AGRESOR, EDAD, GENERO, ESTADO CIVIL, CLASE EMPLEADO, PROFESION, ESCOLARIDAD, PAIS NACE, CODIGO DANE, AÑO DE NACIMIENTO, CÉDULA, CORREO]\n",
              "Index: []"
            ],
            "text/html": [
              "\n",
              "  <div id=\"df-dc8c817c-3778-48b9-93fe-000f128b3ffd\">\n",
              "    <div class=\"colab-df-container\">\n",
              "      <div>\n",
              "<style scoped>\n",
              "    .dataframe tbody tr th:only-of-type {\n",
              "        vertical-align: middle;\n",
              "    }\n",
              "\n",
              "    .dataframe tbody tr th {\n",
              "        vertical-align: top;\n",
              "    }\n",
              "\n",
              "    .dataframe thead th {\n",
              "        text-align: right;\n",
              "    }\n",
              "</style>\n",
              "<table border=\"1\" class=\"dataframe\">\n",
              "  <thead>\n",
              "    <tr style=\"text-align: right;\">\n",
              "      <th></th>\n",
              "      <th>FECHA</th>\n",
              "      <th>DEPARTAMENTO</th>\n",
              "      <th>MUNICIPIO</th>\n",
              "      <th>DIA</th>\n",
              "      <th>BARRIO</th>\n",
              "      <th>ZONA</th>\n",
              "      <th>CLASE DE SITIO</th>\n",
              "      <th>ARMA O MEDIO</th>\n",
              "      <th>MOVIL VICTIMA</th>\n",
              "      <th>MOVIL AGRESOR</th>\n",
              "      <th>EDAD</th>\n",
              "      <th>GENERO</th>\n",
              "      <th>ESTADO CIVIL</th>\n",
              "      <th>CLASE EMPLEADO</th>\n",
              "      <th>PROFESION</th>\n",
              "      <th>ESCOLARIDAD</th>\n",
              "      <th>PAIS NACE</th>\n",
              "      <th>CODIGO DANE</th>\n",
              "      <th>AÑO DE NACIMIENTO</th>\n",
              "      <th>CÉDULA</th>\n",
              "      <th>CORREO</th>\n",
              "    </tr>\n",
              "  </thead>\n",
              "  <tbody>\n",
              "  </tbody>\n",
              "</table>\n",
              "</div>\n",
              "      <button class=\"colab-df-convert\" onclick=\"convertToInteractive('df-dc8c817c-3778-48b9-93fe-000f128b3ffd')\"\n",
              "              title=\"Convert this dataframe to an interactive table.\"\n",
              "              style=\"display:none;\">\n",
              "        \n",
              "  <svg xmlns=\"http://www.w3.org/2000/svg\" height=\"24px\"viewBox=\"0 0 24 24\"\n",
              "       width=\"24px\">\n",
              "    <path d=\"M0 0h24v24H0V0z\" fill=\"none\"/>\n",
              "    <path d=\"M18.56 5.44l.94 2.06.94-2.06 2.06-.94-2.06-.94-.94-2.06-.94 2.06-2.06.94zm-11 1L8.5 8.5l.94-2.06 2.06-.94-2.06-.94L8.5 2.5l-.94 2.06-2.06.94zm10 10l.94 2.06.94-2.06 2.06-.94-2.06-.94-.94-2.06-.94 2.06-2.06.94z\"/><path d=\"M17.41 7.96l-1.37-1.37c-.4-.4-.92-.59-1.43-.59-.52 0-1.04.2-1.43.59L10.3 9.45l-7.72 7.72c-.78.78-.78 2.05 0 2.83L4 21.41c.39.39.9.59 1.41.59.51 0 1.02-.2 1.41-.59l7.78-7.78 2.81-2.81c.8-.78.8-2.07 0-2.86zM5.41 20L4 18.59l7.72-7.72 1.47 1.35L5.41 20z\"/>\n",
              "  </svg>\n",
              "      </button>\n",
              "      \n",
              "  <style>\n",
              "    .colab-df-container {\n",
              "      display:flex;\n",
              "      flex-wrap:wrap;\n",
              "      gap: 12px;\n",
              "    }\n",
              "\n",
              "    .colab-df-convert {\n",
              "      background-color: #E8F0FE;\n",
              "      border: none;\n",
              "      border-radius: 50%;\n",
              "      cursor: pointer;\n",
              "      display: none;\n",
              "      fill: #1967D2;\n",
              "      height: 32px;\n",
              "      padding: 0 0 0 0;\n",
              "      width: 32px;\n",
              "    }\n",
              "\n",
              "    .colab-df-convert:hover {\n",
              "      background-color: #E2EBFA;\n",
              "      box-shadow: 0px 1px 2px rgba(60, 64, 67, 0.3), 0px 1px 3px 1px rgba(60, 64, 67, 0.15);\n",
              "      fill: #174EA6;\n",
              "    }\n",
              "\n",
              "    [theme=dark] .colab-df-convert {\n",
              "      background-color: #3B4455;\n",
              "      fill: #D2E3FC;\n",
              "    }\n",
              "\n",
              "    [theme=dark] .colab-df-convert:hover {\n",
              "      background-color: #434B5C;\n",
              "      box-shadow: 0px 1px 3px 1px rgba(0, 0, 0, 0.15);\n",
              "      filter: drop-shadow(0px 1px 2px rgba(0, 0, 0, 0.3));\n",
              "      fill: #FFFFFF;\n",
              "    }\n",
              "  </style>\n",
              "\n",
              "      <script>\n",
              "        const buttonEl =\n",
              "          document.querySelector('#df-dc8c817c-3778-48b9-93fe-000f128b3ffd button.colab-df-convert');\n",
              "        buttonEl.style.display =\n",
              "          google.colab.kernel.accessAllowed ? 'block' : 'none';\n",
              "\n",
              "        async function convertToInteractive(key) {\n",
              "          const element = document.querySelector('#df-dc8c817c-3778-48b9-93fe-000f128b3ffd');\n",
              "          const dataTable =\n",
              "            await google.colab.kernel.invokeFunction('convertToInteractive',\n",
              "                                                     [key], {});\n",
              "          if (!dataTable) return;\n",
              "\n",
              "          const docLinkHtml = 'Like what you see? Visit the ' +\n",
              "            '<a target=\"_blank\" href=https://colab.research.google.com/notebooks/data_table.ipynb>data table notebook</a>'\n",
              "            + ' to learn more about interactive tables.';\n",
              "          element.innerHTML = '';\n",
              "          dataTable['output_type'] = 'display_data';\n",
              "          await google.colab.output.renderOutput(dataTable, element);\n",
              "          const docLink = document.createElement('div');\n",
              "          docLink.innerHTML = docLinkHtml;\n",
              "          element.appendChild(docLink);\n",
              "        }\n",
              "      </script>\n",
              "    </div>\n",
              "  </div>\n",
              "  "
            ]
          },
          "metadata": {},
          "execution_count": 107
        }
      ]
    },
    {
      "cell_type": "code",
      "execution_count": 97,
      "metadata": {
        "id": "1zOF_SsAwzTb",
        "colab": {
          "base_uri": "https://localhost:8080/"
        },
        "outputId": "a09f1d38-a47f-411b-a278-3267c2de0bb9"
      },
      "outputs": [
        {
          "output_type": "execute_result",
          "data": {
            "text/plain": [
              "array(['lunes', 'jueves', 'viernes', 'sábado', 'domingo', 'martes',\n",
              "       'miércoles'], dtype=object)"
            ]
          },
          "metadata": {},
          "execution_count": 97
        }
      ],
      "source": [
        "# Showing different values for \"DIA\" column\n",
        "homicides_df[\"DIA\"].unique()"
      ]
    },
    {
      "cell_type": "code",
      "execution_count": 98,
      "metadata": {
        "id": "pwDnRELIwzTb",
        "colab": {
          "base_uri": "https://localhost:8080/"
        },
        "outputId": "4a0b9efe-87cc-4f7c-af45-044fc414a559"
      },
      "outputs": [
        {
          "output_type": "execute_result",
          "data": {
            "text/plain": [
              "3"
            ]
          },
          "metadata": {},
          "execution_count": 98
        }
      ],
      "source": [
        "# Calculating the distance between two words using the Levenshtein method\n",
        "pylev.levenshtein('sábado', 'sabaod')"
      ]
    },
    {
      "cell_type": "code",
      "execution_count": 99,
      "metadata": {
        "id": "AtPYA_p9wzTb",
        "colab": {
          "base_uri": "https://localhost:8080/"
        },
        "outputId": "5cf8ffb7-0a61-47a2-c06d-d37d71aa7a4a"
      },
      "outputs": [
        {
          "output_type": "execute_result",
          "data": {
            "text/plain": [
              "7"
            ]
          },
          "metadata": {},
          "execution_count": 99
        }
      ],
      "source": [
        "pylev.levenshtein('sábado', 'viernes')"
      ]
    },
    {
      "cell_type": "markdown",
      "metadata": {
        "id": "jtzbtyXjwzTb"
      },
      "source": [
        "<span style=\"color:red\">TODO: Create a function to fix the digitation errors for \"DIA\" column.</span>"
      ]
    },
    {
      "cell_type": "code",
      "execution_count": 100,
      "metadata": {
        "id": "HXXaTRqlwzTb"
      },
      "outputs": [],
      "source": [
        "def fix_day(day):\n",
        "  if pylev.levenshtein('lunes', day) <= 3:\n",
        "    return 'lunes'\n",
        "  elif pylev.levenshtein('martes', day) <= 3:\n",
        "    return 'martes'\n",
        "  elif pylev.levenshtein('miércoles', day) <= 3:\n",
        "    return 'miércoles'\n",
        "  elif pylev.levenshtein('jueves', day) <= 3:\n",
        "    return 'jueves'\n",
        "  elif pylev.levenshtein('viernes', day) <= 3:\n",
        "    return 'viernes'\n",
        "  elif pylev.levenshtein('sábado', day) <= 3:\n",
        "    return 'sábado'\n",
        "  elif pylev.levenshtein('domingo', day) <= 3:\n",
        "    return 'domingo'\n"
      ]
    },
    {
      "cell_type": "code",
      "source": [
        "# Aplciar la función\n",
        "homicides_df['DIA'] = homicides_df['DIA'].apply(fix_day)"
      ],
      "metadata": {
        "id": "SqI4D9iD_KaS"
      },
      "execution_count": 101,
      "outputs": []
    },
    {
      "cell_type": "code",
      "execution_count": 102,
      "metadata": {
        "id": "IBwEv1dawzTb",
        "colab": {
          "base_uri": "https://localhost:8080/"
        },
        "outputId": "f67bfa9e-fdf1-467f-f595-e809ddfd932e"
      },
      "outputs": [
        {
          "output_type": "execute_result",
          "data": {
            "text/plain": [
              "array(['lunes', 'viernes', 'sábado', 'domingo', 'martes', 'miércoles'],\n",
              "      dtype=object)"
            ]
          },
          "metadata": {},
          "execution_count": 102
        }
      ],
      "source": [
        "homicides_df[\"DIA\"].unique()"
      ]
    },
    {
      "cell_type": "code",
      "execution_count": 103,
      "metadata": {
        "id": "w59MT4iNwzTb",
        "colab": {
          "base_uri": "https://localhost:8080/",
          "height": 363
        },
        "outputId": "c2d1e387-c9b7-44f9-d792-73d8688ea592"
      },
      "outputs": [
        {
          "output_type": "execute_result",
          "data": {
            "text/plain": [
              "   AÑO DE NACIMIENTO  EDAD\n",
              "0             1978.0  44.0\n",
              "1             1992.0  30.0\n",
              "2             1989.0  33.0\n",
              "3             1982.0  40.0\n",
              "4             1956.0  66.0\n",
              "5             1980.0  42.0\n",
              "6             1997.0  25.0\n",
              "7             1985.0  37.0\n",
              "8             1997.0  25.0\n",
              "9             1992.0  30.0"
            ],
            "text/html": [
              "\n",
              "  <div id=\"df-ba2c3b2b-75ab-47f9-adbc-d2594fb0199c\">\n",
              "    <div class=\"colab-df-container\">\n",
              "      <div>\n",
              "<style scoped>\n",
              "    .dataframe tbody tr th:only-of-type {\n",
              "        vertical-align: middle;\n",
              "    }\n",
              "\n",
              "    .dataframe tbody tr th {\n",
              "        vertical-align: top;\n",
              "    }\n",
              "\n",
              "    .dataframe thead th {\n",
              "        text-align: right;\n",
              "    }\n",
              "</style>\n",
              "<table border=\"1\" class=\"dataframe\">\n",
              "  <thead>\n",
              "    <tr style=\"text-align: right;\">\n",
              "      <th></th>\n",
              "      <th>AÑO DE NACIMIENTO</th>\n",
              "      <th>EDAD</th>\n",
              "    </tr>\n",
              "  </thead>\n",
              "  <tbody>\n",
              "    <tr>\n",
              "      <th>0</th>\n",
              "      <td>1978.0</td>\n",
              "      <td>44.0</td>\n",
              "    </tr>\n",
              "    <tr>\n",
              "      <th>1</th>\n",
              "      <td>1992.0</td>\n",
              "      <td>30.0</td>\n",
              "    </tr>\n",
              "    <tr>\n",
              "      <th>2</th>\n",
              "      <td>1989.0</td>\n",
              "      <td>33.0</td>\n",
              "    </tr>\n",
              "    <tr>\n",
              "      <th>3</th>\n",
              "      <td>1982.0</td>\n",
              "      <td>40.0</td>\n",
              "    </tr>\n",
              "    <tr>\n",
              "      <th>4</th>\n",
              "      <td>1956.0</td>\n",
              "      <td>66.0</td>\n",
              "    </tr>\n",
              "    <tr>\n",
              "      <th>5</th>\n",
              "      <td>1980.0</td>\n",
              "      <td>42.0</td>\n",
              "    </tr>\n",
              "    <tr>\n",
              "      <th>6</th>\n",
              "      <td>1997.0</td>\n",
              "      <td>25.0</td>\n",
              "    </tr>\n",
              "    <tr>\n",
              "      <th>7</th>\n",
              "      <td>1985.0</td>\n",
              "      <td>37.0</td>\n",
              "    </tr>\n",
              "    <tr>\n",
              "      <th>8</th>\n",
              "      <td>1997.0</td>\n",
              "      <td>25.0</td>\n",
              "    </tr>\n",
              "    <tr>\n",
              "      <th>9</th>\n",
              "      <td>1992.0</td>\n",
              "      <td>30.0</td>\n",
              "    </tr>\n",
              "  </tbody>\n",
              "</table>\n",
              "</div>\n",
              "      <button class=\"colab-df-convert\" onclick=\"convertToInteractive('df-ba2c3b2b-75ab-47f9-adbc-d2594fb0199c')\"\n",
              "              title=\"Convert this dataframe to an interactive table.\"\n",
              "              style=\"display:none;\">\n",
              "        \n",
              "  <svg xmlns=\"http://www.w3.org/2000/svg\" height=\"24px\"viewBox=\"0 0 24 24\"\n",
              "       width=\"24px\">\n",
              "    <path d=\"M0 0h24v24H0V0z\" fill=\"none\"/>\n",
              "    <path d=\"M18.56 5.44l.94 2.06.94-2.06 2.06-.94-2.06-.94-.94-2.06-.94 2.06-2.06.94zm-11 1L8.5 8.5l.94-2.06 2.06-.94-2.06-.94L8.5 2.5l-.94 2.06-2.06.94zm10 10l.94 2.06.94-2.06 2.06-.94-2.06-.94-.94-2.06-.94 2.06-2.06.94z\"/><path d=\"M17.41 7.96l-1.37-1.37c-.4-.4-.92-.59-1.43-.59-.52 0-1.04.2-1.43.59L10.3 9.45l-7.72 7.72c-.78.78-.78 2.05 0 2.83L4 21.41c.39.39.9.59 1.41.59.51 0 1.02-.2 1.41-.59l7.78-7.78 2.81-2.81c.8-.78.8-2.07 0-2.86zM5.41 20L4 18.59l7.72-7.72 1.47 1.35L5.41 20z\"/>\n",
              "  </svg>\n",
              "      </button>\n",
              "      \n",
              "  <style>\n",
              "    .colab-df-container {\n",
              "      display:flex;\n",
              "      flex-wrap:wrap;\n",
              "      gap: 12px;\n",
              "    }\n",
              "\n",
              "    .colab-df-convert {\n",
              "      background-color: #E8F0FE;\n",
              "      border: none;\n",
              "      border-radius: 50%;\n",
              "      cursor: pointer;\n",
              "      display: none;\n",
              "      fill: #1967D2;\n",
              "      height: 32px;\n",
              "      padding: 0 0 0 0;\n",
              "      width: 32px;\n",
              "    }\n",
              "\n",
              "    .colab-df-convert:hover {\n",
              "      background-color: #E2EBFA;\n",
              "      box-shadow: 0px 1px 2px rgba(60, 64, 67, 0.3), 0px 1px 3px 1px rgba(60, 64, 67, 0.15);\n",
              "      fill: #174EA6;\n",
              "    }\n",
              "\n",
              "    [theme=dark] .colab-df-convert {\n",
              "      background-color: #3B4455;\n",
              "      fill: #D2E3FC;\n",
              "    }\n",
              "\n",
              "    [theme=dark] .colab-df-convert:hover {\n",
              "      background-color: #434B5C;\n",
              "      box-shadow: 0px 1px 3px 1px rgba(0, 0, 0, 0.15);\n",
              "      filter: drop-shadow(0px 1px 2px rgba(0, 0, 0, 0.3));\n",
              "      fill: #FFFFFF;\n",
              "    }\n",
              "  </style>\n",
              "\n",
              "      <script>\n",
              "        const buttonEl =\n",
              "          document.querySelector('#df-ba2c3b2b-75ab-47f9-adbc-d2594fb0199c button.colab-df-convert');\n",
              "        buttonEl.style.display =\n",
              "          google.colab.kernel.accessAllowed ? 'block' : 'none';\n",
              "\n",
              "        async function convertToInteractive(key) {\n",
              "          const element = document.querySelector('#df-ba2c3b2b-75ab-47f9-adbc-d2594fb0199c');\n",
              "          const dataTable =\n",
              "            await google.colab.kernel.invokeFunction('convertToInteractive',\n",
              "                                                     [key], {});\n",
              "          if (!dataTable) return;\n",
              "\n",
              "          const docLinkHtml = 'Like what you see? Visit the ' +\n",
              "            '<a target=\"_blank\" href=https://colab.research.google.com/notebooks/data_table.ipynb>data table notebook</a>'\n",
              "            + ' to learn more about interactive tables.';\n",
              "          element.innerHTML = '';\n",
              "          dataTable['output_type'] = 'display_data';\n",
              "          await google.colab.output.renderOutput(dataTable, element);\n",
              "          const docLink = document.createElement('div');\n",
              "          docLink.innerHTML = docLinkHtml;\n",
              "          element.appendChild(docLink);\n",
              "        }\n",
              "      </script>\n",
              "    </div>\n",
              "  </div>\n",
              "  "
            ]
          },
          "metadata": {},
          "execution_count": 103
        }
      ],
      "source": [
        "homicides_df[[\"AÑO DE NACIMIENTO\", \"EDAD\"]].head(10)"
      ]
    },
    {
      "cell_type": "markdown",
      "metadata": {
        "id": "8Lyu3MqywzTb"
      },
      "source": [
        "<span style=\"color:red\">TODO: Fix the \"AÑO DE NACIMIENTO\" column using the column \"EDAD\".</span>"
      ]
    },
    {
      "cell_type": "code",
      "source": [
        "#Se toma para el año 2022\n",
        "homicides_df['AÑO DE NACIMIENTO'] = homicides_df.apply(lambda x: 2022 - x.EDAD, axis=1)"
      ],
      "metadata": {
        "id": "9BTr1WYI_xCN"
      },
      "execution_count": 104,
      "outputs": []
    },
    {
      "cell_type": "code",
      "source": [
        "homicides_df[['AÑO DE NACIMIENTO', 'EDAD']].head(10)"
      ],
      "metadata": {
        "colab": {
          "base_uri": "https://localhost:8080/",
          "height": 363
        },
        "id": "S_fXHKxQ_xY9",
        "outputId": "ba9b3d3f-30da-4b57-916b-c8fd557fcc5f"
      },
      "execution_count": 105,
      "outputs": [
        {
          "output_type": "execute_result",
          "data": {
            "text/plain": [
              "   AÑO DE NACIMIENTO  EDAD\n",
              "0             1978.0  44.0\n",
              "1             1992.0  30.0\n",
              "2             1989.0  33.0\n",
              "3             1982.0  40.0\n",
              "4             1956.0  66.0\n",
              "5             1980.0  42.0\n",
              "6             1997.0  25.0\n",
              "7             1985.0  37.0\n",
              "8             1997.0  25.0\n",
              "9             1992.0  30.0"
            ],
            "text/html": [
              "\n",
              "  <div id=\"df-96b82e18-d314-44e2-954d-1e1c09e151e4\">\n",
              "    <div class=\"colab-df-container\">\n",
              "      <div>\n",
              "<style scoped>\n",
              "    .dataframe tbody tr th:only-of-type {\n",
              "        vertical-align: middle;\n",
              "    }\n",
              "\n",
              "    .dataframe tbody tr th {\n",
              "        vertical-align: top;\n",
              "    }\n",
              "\n",
              "    .dataframe thead th {\n",
              "        text-align: right;\n",
              "    }\n",
              "</style>\n",
              "<table border=\"1\" class=\"dataframe\">\n",
              "  <thead>\n",
              "    <tr style=\"text-align: right;\">\n",
              "      <th></th>\n",
              "      <th>AÑO DE NACIMIENTO</th>\n",
              "      <th>EDAD</th>\n",
              "    </tr>\n",
              "  </thead>\n",
              "  <tbody>\n",
              "    <tr>\n",
              "      <th>0</th>\n",
              "      <td>1978.0</td>\n",
              "      <td>44.0</td>\n",
              "    </tr>\n",
              "    <tr>\n",
              "      <th>1</th>\n",
              "      <td>1992.0</td>\n",
              "      <td>30.0</td>\n",
              "    </tr>\n",
              "    <tr>\n",
              "      <th>2</th>\n",
              "      <td>1989.0</td>\n",
              "      <td>33.0</td>\n",
              "    </tr>\n",
              "    <tr>\n",
              "      <th>3</th>\n",
              "      <td>1982.0</td>\n",
              "      <td>40.0</td>\n",
              "    </tr>\n",
              "    <tr>\n",
              "      <th>4</th>\n",
              "      <td>1956.0</td>\n",
              "      <td>66.0</td>\n",
              "    </tr>\n",
              "    <tr>\n",
              "      <th>5</th>\n",
              "      <td>1980.0</td>\n",
              "      <td>42.0</td>\n",
              "    </tr>\n",
              "    <tr>\n",
              "      <th>6</th>\n",
              "      <td>1997.0</td>\n",
              "      <td>25.0</td>\n",
              "    </tr>\n",
              "    <tr>\n",
              "      <th>7</th>\n",
              "      <td>1985.0</td>\n",
              "      <td>37.0</td>\n",
              "    </tr>\n",
              "    <tr>\n",
              "      <th>8</th>\n",
              "      <td>1997.0</td>\n",
              "      <td>25.0</td>\n",
              "    </tr>\n",
              "    <tr>\n",
              "      <th>9</th>\n",
              "      <td>1992.0</td>\n",
              "      <td>30.0</td>\n",
              "    </tr>\n",
              "  </tbody>\n",
              "</table>\n",
              "</div>\n",
              "      <button class=\"colab-df-convert\" onclick=\"convertToInteractive('df-96b82e18-d314-44e2-954d-1e1c09e151e4')\"\n",
              "              title=\"Convert this dataframe to an interactive table.\"\n",
              "              style=\"display:none;\">\n",
              "        \n",
              "  <svg xmlns=\"http://www.w3.org/2000/svg\" height=\"24px\"viewBox=\"0 0 24 24\"\n",
              "       width=\"24px\">\n",
              "    <path d=\"M0 0h24v24H0V0z\" fill=\"none\"/>\n",
              "    <path d=\"M18.56 5.44l.94 2.06.94-2.06 2.06-.94-2.06-.94-.94-2.06-.94 2.06-2.06.94zm-11 1L8.5 8.5l.94-2.06 2.06-.94-2.06-.94L8.5 2.5l-.94 2.06-2.06.94zm10 10l.94 2.06.94-2.06 2.06-.94-2.06-.94-.94-2.06-.94 2.06-2.06.94z\"/><path d=\"M17.41 7.96l-1.37-1.37c-.4-.4-.92-.59-1.43-.59-.52 0-1.04.2-1.43.59L10.3 9.45l-7.72 7.72c-.78.78-.78 2.05 0 2.83L4 21.41c.39.39.9.59 1.41.59.51 0 1.02-.2 1.41-.59l7.78-7.78 2.81-2.81c.8-.78.8-2.07 0-2.86zM5.41 20L4 18.59l7.72-7.72 1.47 1.35L5.41 20z\"/>\n",
              "  </svg>\n",
              "      </button>\n",
              "      \n",
              "  <style>\n",
              "    .colab-df-container {\n",
              "      display:flex;\n",
              "      flex-wrap:wrap;\n",
              "      gap: 12px;\n",
              "    }\n",
              "\n",
              "    .colab-df-convert {\n",
              "      background-color: #E8F0FE;\n",
              "      border: none;\n",
              "      border-radius: 50%;\n",
              "      cursor: pointer;\n",
              "      display: none;\n",
              "      fill: #1967D2;\n",
              "      height: 32px;\n",
              "      padding: 0 0 0 0;\n",
              "      width: 32px;\n",
              "    }\n",
              "\n",
              "    .colab-df-convert:hover {\n",
              "      background-color: #E2EBFA;\n",
              "      box-shadow: 0px 1px 2px rgba(60, 64, 67, 0.3), 0px 1px 3px 1px rgba(60, 64, 67, 0.15);\n",
              "      fill: #174EA6;\n",
              "    }\n",
              "\n",
              "    [theme=dark] .colab-df-convert {\n",
              "      background-color: #3B4455;\n",
              "      fill: #D2E3FC;\n",
              "    }\n",
              "\n",
              "    [theme=dark] .colab-df-convert:hover {\n",
              "      background-color: #434B5C;\n",
              "      box-shadow: 0px 1px 3px 1px rgba(0, 0, 0, 0.15);\n",
              "      filter: drop-shadow(0px 1px 2px rgba(0, 0, 0, 0.3));\n",
              "      fill: #FFFFFF;\n",
              "    }\n",
              "  </style>\n",
              "\n",
              "      <script>\n",
              "        const buttonEl =\n",
              "          document.querySelector('#df-96b82e18-d314-44e2-954d-1e1c09e151e4 button.colab-df-convert');\n",
              "        buttonEl.style.display =\n",
              "          google.colab.kernel.accessAllowed ? 'block' : 'none';\n",
              "\n",
              "        async function convertToInteractive(key) {\n",
              "          const element = document.querySelector('#df-96b82e18-d314-44e2-954d-1e1c09e151e4');\n",
              "          const dataTable =\n",
              "            await google.colab.kernel.invokeFunction('convertToInteractive',\n",
              "                                                     [key], {});\n",
              "          if (!dataTable) return;\n",
              "\n",
              "          const docLinkHtml = 'Like what you see? Visit the ' +\n",
              "            '<a target=\"_blank\" href=https://colab.research.google.com/notebooks/data_table.ipynb>data table notebook</a>'\n",
              "            + ' to learn more about interactive tables.';\n",
              "          element.innerHTML = '';\n",
              "          dataTable['output_type'] = 'display_data';\n",
              "          await google.colab.output.renderOutput(dataTable, element);\n",
              "          const docLink = document.createElement('div');\n",
              "          docLink.innerHTML = docLinkHtml;\n",
              "          element.appendChild(docLink);\n",
              "        }\n",
              "      </script>\n",
              "    </div>\n",
              "  </div>\n",
              "  "
            ]
          },
          "metadata": {},
          "execution_count": 105
        }
      ]
    }
  ],
  "metadata": {
    "kernelspec": {
      "display_name": "Python 3 (ipykernel)",
      "language": "python",
      "name": "python3"
    },
    "language_info": {
      "codemirror_mode": {
        "name": "ipython",
        "version": 3
      },
      "file_extension": ".py",
      "mimetype": "text/x-python",
      "name": "python",
      "nbconvert_exporter": "python",
      "pygments_lexer": "ipython3",
      "version": "3.9.12"
    },
    "colab": {
      "provenance": [],
      "collapsed_sections": [],
      "toc_visible": true
    }
  },
  "nbformat": 4,
  "nbformat_minor": 0
}